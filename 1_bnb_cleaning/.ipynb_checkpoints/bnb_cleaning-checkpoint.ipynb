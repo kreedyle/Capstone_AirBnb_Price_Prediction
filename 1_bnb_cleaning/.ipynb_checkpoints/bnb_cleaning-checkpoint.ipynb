{
 "cells": [
  {
   "cell_type": "markdown",
   "id": "0f5d00fd-7dfb-4ff7-9891-93ed31ced87f",
   "metadata": {},
   "source": [
    "## Import libraries"
   ]
  },
  {
   "cell_type": "code",
   "execution_count": 1,
   "id": "0e00fe19-1046-4a97-9a5b-3dbed8ece9c4",
   "metadata": {
    "tags": []
   },
   "outputs": [],
   "source": [
    "# Standard imports\n",
    "import pandas as pd \n",
    "import numpy as np\n",
    "import seaborn as sns\n",
    "import re\n",
    "import matplotlib.pyplot as plt\n",
    "%matplotlib inline\n",
    "from scipy import stats\n",
    "\n",
    "import statistics\n",
    "\n",
    "# Steez \n",
    "plt.style.use('fivethirtyeight')\n",
    "\n",
    "# Ridding myself of those pesky warnings\n",
    "import warnings \n",
    "warnings.simplefilter(\"ignore\")\n",
    "\n",
    "# Investigating null values \n",
    "import missingno as msno"
   ]
  },
  {
   "cell_type": "code",
   "execution_count": 2,
   "id": "98773e59-0bb1-4a71-88f6-ac50b64d2317",
   "metadata": {},
   "outputs": [],
   "source": [
    "# Creating a helper function to convert price & bathrooms_text columns into numeric dtypes. \n",
    "\n",
    "def process_df(df):\n",
    "    # Removing special characters and changing data type\n",
    "    # Since price feature will be our target variable for regression\n",
    "    # model. \n",
    "    df['price'] = df['price'].str.replace('$','')\n",
    "    df['price'] = df['price'].str.replace(',', '')\n",
    "    df['price'] = df['price'].astype(float)\n",
    "    \n",
    "    # Impute the mean price for individual city\n",
    "    # mean = np.mean(df['price'])\n",
    "    # df['price'] = df['price'].fillna(mean)\n",
    "\n",
    "    # Strip words and convert bathrooms_text to numeric dtype\n",
    "    df['bathrooms_text'] = df['bathrooms_text'].str.replace('([^\\d/.])', '', regex=True)\n",
    "    df['bathrooms_text'] = pd.to_numeric(df['bathrooms_text'])\n",
    "    df.rename(columns={'bathrooms_text':'baths'}, inplace=True)\n",
    "    df['baths'] = df['baths'].astype(float)\n",
    "    \n",
    "    return df"
   ]
  },
  {
   "cell_type": "markdown",
   "id": "3f6f6829-f4ba-45a8-993a-a901e2178c70",
   "metadata": {},
   "source": [
    "## Read in the data"
   ]
  },
  {
   "cell_type": "code",
   "execution_count": 3,
   "id": "5c3b9709-b5e5-40d7-a3b2-4585ee7bad05",
   "metadata": {},
   "outputs": [],
   "source": [
    "# List of .csv files I will be reading into one single DataFrame\n",
    "paris = [ \n",
    "    '../data/paris_airbnb_jun22.csv',\n",
    "    '../data/paris_airbnb_mar22.csv',\n",
    "    '../data/paris_airbnb_dec21.csv',\n",
    "    '../data/paris_airbnb_sept21.csv', \n",
    "    \n",
    "]"
   ]
  },
  {
   "cell_type": "code",
   "execution_count": 4,
   "id": "9a2af2f2-9924-499e-bd33-bb58a9aaa309",
   "metadata": {},
   "outputs": [],
   "source": [
    "london = [\n",
    "    '../data/london_airbnb_jun22.csv',\n",
    "    '../data/london_airbnb_mar22.csv',\n",
    "    '../data/london_airbnb_dec21.csv', \n",
    "    '../data/london_airbnb_sept21.csv'\n",
    "]"
   ]
  },
  {
   "cell_type": "code",
   "execution_count": 5,
   "id": "473aaba7-e792-49cb-810a-8191780c4000",
   "metadata": {},
   "outputs": [],
   "source": [
    "# Using concat and map to read in and combine the list of .csv's\n",
    "paris = pd.concat(map(pd.read_csv, paris), ignore_index=False)"
   ]
  },
  {
   "cell_type": "code",
   "execution_count": 6,
   "id": "887aaa59-4746-4280-82d3-02b02564263f",
   "metadata": {},
   "outputs": [],
   "source": [
    "# Using concat and map to read in and combine the list of .csv's\n",
    "london = pd.concat(map(pd.read_csv, london), ignore_index=False)"
   ]
  },
  {
   "cell_type": "code",
   "execution_count": 7,
   "id": "c2f29fa2-f9af-471e-a4e8-0861321ec26e",
   "metadata": {},
   "outputs": [
    {
     "data": {
      "text/html": [
       "<div>\n",
       "<style scoped>\n",
       "    .dataframe tbody tr th:only-of-type {\n",
       "        vertical-align: middle;\n",
       "    }\n",
       "\n",
       "    .dataframe tbody tr th {\n",
       "        vertical-align: top;\n",
       "    }\n",
       "\n",
       "    .dataframe thead th {\n",
       "        text-align: right;\n",
       "    }\n",
       "</style>\n",
       "<table border=\"1\" class=\"dataframe\">\n",
       "  <thead>\n",
       "    <tr style=\"text-align: right;\">\n",
       "      <th></th>\n",
       "      <th>id</th>\n",
       "      <th>listing_url</th>\n",
       "      <th>scrape_id</th>\n",
       "      <th>last_scraped</th>\n",
       "      <th>name</th>\n",
       "      <th>description</th>\n",
       "      <th>neighborhood_overview</th>\n",
       "      <th>picture_url</th>\n",
       "      <th>host_id</th>\n",
       "      <th>host_url</th>\n",
       "      <th>...</th>\n",
       "      <th>review_scores_communication</th>\n",
       "      <th>review_scores_location</th>\n",
       "      <th>review_scores_value</th>\n",
       "      <th>license</th>\n",
       "      <th>instant_bookable</th>\n",
       "      <th>calculated_host_listings_count</th>\n",
       "      <th>calculated_host_listings_count_entire_homes</th>\n",
       "      <th>calculated_host_listings_count_private_rooms</th>\n",
       "      <th>calculated_host_listings_count_shared_rooms</th>\n",
       "      <th>reviews_per_month</th>\n",
       "    </tr>\n",
       "  </thead>\n",
       "  <tbody>\n",
       "    <tr>\n",
       "      <th>0</th>\n",
       "      <td>26660141</td>\n",
       "      <td>https://www.airbnb.com/rooms/26660141</td>\n",
       "      <td>2.022061e+13</td>\n",
       "      <td>2022-06-07</td>\n",
       "      <td>CHARMANT APPARTEMENT,  50M2 AUX PORTES DE PARIS</td>\n",
       "      <td>Charmant appartement avec petit balcon filant,...</td>\n",
       "      <td>La rue principale à la sortie du métro est trè...</td>\n",
       "      <td>https://a0.muscache.com/pictures/a776b332-0fde...</td>\n",
       "      <td>200407698</td>\n",
       "      <td>https://www.airbnb.com/users/show/200407698</td>\n",
       "      <td>...</td>\n",
       "      <td>5.00</td>\n",
       "      <td>4.88</td>\n",
       "      <td>4.94</td>\n",
       "      <td>NaN</td>\n",
       "      <td>f</td>\n",
       "      <td>1</td>\n",
       "      <td>1</td>\n",
       "      <td>0</td>\n",
       "      <td>0</td>\n",
       "      <td>0.38</td>\n",
       "    </tr>\n",
       "    <tr>\n",
       "      <th>1</th>\n",
       "      <td>25177338</td>\n",
       "      <td>https://www.airbnb.com/rooms/25177338</td>\n",
       "      <td>2.022061e+13</td>\n",
       "      <td>2022-06-07</td>\n",
       "      <td>Cosy and quiet appartement at Les Lilas</td>\n",
       "      <td>&lt;b&gt;The space&lt;/b&gt;&lt;br /&gt;Le logement est situé da...</td>\n",
       "      <td>NaN</td>\n",
       "      <td>https://a0.muscache.com/pictures/e984c1e4-6d40...</td>\n",
       "      <td>185793394</td>\n",
       "      <td>https://www.airbnb.com/users/show/185793394</td>\n",
       "      <td>...</td>\n",
       "      <td>4.56</td>\n",
       "      <td>4.50</td>\n",
       "      <td>4.56</td>\n",
       "      <td>NaN</td>\n",
       "      <td>t</td>\n",
       "      <td>1</td>\n",
       "      <td>1</td>\n",
       "      <td>0</td>\n",
       "      <td>0</td>\n",
       "      <td>0.35</td>\n",
       "    </tr>\n",
       "  </tbody>\n",
       "</table>\n",
       "<p>2 rows × 74 columns</p>\n",
       "</div>"
      ],
      "text/plain": [
       "         id                            listing_url     scrape_id last_scraped  \\\n",
       "0  26660141  https://www.airbnb.com/rooms/26660141  2.022061e+13   2022-06-07   \n",
       "1  25177338  https://www.airbnb.com/rooms/25177338  2.022061e+13   2022-06-07   \n",
       "\n",
       "                                              name  \\\n",
       "0  CHARMANT APPARTEMENT,  50M2 AUX PORTES DE PARIS   \n",
       "1          Cosy and quiet appartement at Les Lilas   \n",
       "\n",
       "                                         description  \\\n",
       "0  Charmant appartement avec petit balcon filant,...   \n",
       "1  <b>The space</b><br />Le logement est situé da...   \n",
       "\n",
       "                               neighborhood_overview  \\\n",
       "0  La rue principale à la sortie du métro est trè...   \n",
       "1                                                NaN   \n",
       "\n",
       "                                         picture_url    host_id  \\\n",
       "0  https://a0.muscache.com/pictures/a776b332-0fde...  200407698   \n",
       "1  https://a0.muscache.com/pictures/e984c1e4-6d40...  185793394   \n",
       "\n",
       "                                      host_url  ...  \\\n",
       "0  https://www.airbnb.com/users/show/200407698  ...   \n",
       "1  https://www.airbnb.com/users/show/185793394  ...   \n",
       "\n",
       "  review_scores_communication review_scores_location review_scores_value  \\\n",
       "0                        5.00                   4.88                4.94   \n",
       "1                        4.56                   4.50                4.56   \n",
       "\n",
       "  license instant_bookable calculated_host_listings_count  \\\n",
       "0     NaN                f                              1   \n",
       "1     NaN                t                              1   \n",
       "\n",
       "  calculated_host_listings_count_entire_homes  \\\n",
       "0                                           1   \n",
       "1                                           1   \n",
       "\n",
       "  calculated_host_listings_count_private_rooms  \\\n",
       "0                                            0   \n",
       "1                                            0   \n",
       "\n",
       "  calculated_host_listings_count_shared_rooms reviews_per_month  \n",
       "0                                           0              0.38  \n",
       "1                                           0              0.35  \n",
       "\n",
       "[2 rows x 74 columns]"
      ]
     },
     "execution_count": 7,
     "metadata": {},
     "output_type": "execute_result"
    }
   ],
   "source": [
    "process_df(paris).head(2)"
   ]
  },
  {
   "cell_type": "code",
   "execution_count": 8,
   "id": "767c7f85-18ac-442a-830e-a97bf087f659",
   "metadata": {},
   "outputs": [
    {
     "data": {
      "text/html": [
       "<div>\n",
       "<style scoped>\n",
       "    .dataframe tbody tr th:only-of-type {\n",
       "        vertical-align: middle;\n",
       "    }\n",
       "\n",
       "    .dataframe tbody tr th {\n",
       "        vertical-align: top;\n",
       "    }\n",
       "\n",
       "    .dataframe thead th {\n",
       "        text-align: right;\n",
       "    }\n",
       "</style>\n",
       "<table border=\"1\" class=\"dataframe\">\n",
       "  <thead>\n",
       "    <tr style=\"text-align: right;\">\n",
       "      <th></th>\n",
       "      <th>id</th>\n",
       "      <th>listing_url</th>\n",
       "      <th>scrape_id</th>\n",
       "      <th>last_scraped</th>\n",
       "      <th>name</th>\n",
       "      <th>description</th>\n",
       "      <th>neighborhood_overview</th>\n",
       "      <th>picture_url</th>\n",
       "      <th>host_id</th>\n",
       "      <th>host_url</th>\n",
       "      <th>...</th>\n",
       "      <th>review_scores_communication</th>\n",
       "      <th>review_scores_location</th>\n",
       "      <th>review_scores_value</th>\n",
       "      <th>license</th>\n",
       "      <th>instant_bookable</th>\n",
       "      <th>calculated_host_listings_count</th>\n",
       "      <th>calculated_host_listings_count_entire_homes</th>\n",
       "      <th>calculated_host_listings_count_private_rooms</th>\n",
       "      <th>calculated_host_listings_count_shared_rooms</th>\n",
       "      <th>reviews_per_month</th>\n",
       "    </tr>\n",
       "  </thead>\n",
       "  <tbody>\n",
       "    <tr>\n",
       "      <th>0</th>\n",
       "      <td>13913</td>\n",
       "      <td>https://www.airbnb.com/rooms/13913</td>\n",
       "      <td>2.022061e+13</td>\n",
       "      <td>2022-06-08</td>\n",
       "      <td>Holiday London DB Room Let-on going</td>\n",
       "      <td>My bright double bedroom with a large window h...</td>\n",
       "      <td>Finsbury Park is a friendly melting pot commun...</td>\n",
       "      <td>https://a0.muscache.com/pictures/miso/Hosting-...</td>\n",
       "      <td>54730</td>\n",
       "      <td>https://www.airbnb.com/users/show/54730</td>\n",
       "      <td>...</td>\n",
       "      <td>4.92</td>\n",
       "      <td>4.71</td>\n",
       "      <td>4.79</td>\n",
       "      <td>NaN</td>\n",
       "      <td>f</td>\n",
       "      <td>2</td>\n",
       "      <td>1</td>\n",
       "      <td>1</td>\n",
       "      <td>0</td>\n",
       "      <td>0.18</td>\n",
       "    </tr>\n",
       "    <tr>\n",
       "      <th>1</th>\n",
       "      <td>15400</td>\n",
       "      <td>https://www.airbnb.com/rooms/15400</td>\n",
       "      <td>2.022061e+13</td>\n",
       "      <td>2022-06-08</td>\n",
       "      <td>Bright Chelsea  Apartment. Chelsea!</td>\n",
       "      <td>Lots of windows and light.  St Luke's Gardens ...</td>\n",
       "      <td>It is Chelsea.</td>\n",
       "      <td>https://a0.muscache.com/pictures/428392/462d26...</td>\n",
       "      <td>60302</td>\n",
       "      <td>https://www.airbnb.com/users/show/60302</td>\n",
       "      <td>...</td>\n",
       "      <td>4.82</td>\n",
       "      <td>4.93</td>\n",
       "      <td>4.73</td>\n",
       "      <td>NaN</td>\n",
       "      <td>f</td>\n",
       "      <td>1</td>\n",
       "      <td>1</td>\n",
       "      <td>0</td>\n",
       "      <td>0</td>\n",
       "      <td>0.59</td>\n",
       "    </tr>\n",
       "  </tbody>\n",
       "</table>\n",
       "<p>2 rows × 74 columns</p>\n",
       "</div>"
      ],
      "text/plain": [
       "      id                         listing_url     scrape_id last_scraped  \\\n",
       "0  13913  https://www.airbnb.com/rooms/13913  2.022061e+13   2022-06-08   \n",
       "1  15400  https://www.airbnb.com/rooms/15400  2.022061e+13   2022-06-08   \n",
       "\n",
       "                                  name  \\\n",
       "0  Holiday London DB Room Let-on going   \n",
       "1  Bright Chelsea  Apartment. Chelsea!   \n",
       "\n",
       "                                         description  \\\n",
       "0  My bright double bedroom with a large window h...   \n",
       "1  Lots of windows and light.  St Luke's Gardens ...   \n",
       "\n",
       "                               neighborhood_overview  \\\n",
       "0  Finsbury Park is a friendly melting pot commun...   \n",
       "1                                     It is Chelsea.   \n",
       "\n",
       "                                         picture_url  host_id  \\\n",
       "0  https://a0.muscache.com/pictures/miso/Hosting-...    54730   \n",
       "1  https://a0.muscache.com/pictures/428392/462d26...    60302   \n",
       "\n",
       "                                  host_url  ... review_scores_communication  \\\n",
       "0  https://www.airbnb.com/users/show/54730  ...                        4.92   \n",
       "1  https://www.airbnb.com/users/show/60302  ...                        4.82   \n",
       "\n",
       "  review_scores_location review_scores_value license instant_bookable  \\\n",
       "0                   4.71                4.79     NaN                f   \n",
       "1                   4.93                4.73     NaN                f   \n",
       "\n",
       "  calculated_host_listings_count calculated_host_listings_count_entire_homes  \\\n",
       "0                              2                                           1   \n",
       "1                              1                                           1   \n",
       "\n",
       "  calculated_host_listings_count_private_rooms  \\\n",
       "0                                            1   \n",
       "1                                            0   \n",
       "\n",
       "  calculated_host_listings_count_shared_rooms reviews_per_month  \n",
       "0                                           0              0.18  \n",
       "1                                           0              0.59  \n",
       "\n",
       "[2 rows x 74 columns]"
      ]
     },
     "execution_count": 8,
     "metadata": {},
     "output_type": "execute_result"
    }
   ],
   "source": [
    "process_df(london).head(2)"
   ]
  },
  {
   "cell_type": "code",
   "execution_count": 9,
   "id": "2b0ea145-05f3-4be4-aa4d-bee254bb56ff",
   "metadata": {},
   "outputs": [],
   "source": [
    "paris['city'] = 'paris'"
   ]
  },
  {
   "cell_type": "code",
   "execution_count": 10,
   "id": "0272b172-b0c0-448f-9560-e783e8b47c40",
   "metadata": {},
   "outputs": [],
   "source": [
    "london['city'] = 'london'"
   ]
  },
  {
   "cell_type": "code",
   "execution_count": 11,
   "id": "650a4d5d-bf38-4289-81ec-0f4e22da7d90",
   "metadata": {},
   "outputs": [],
   "source": [
    "# Using concat and map to read in and combine the two bnb dataframes\n",
    "bnb = pd.concat([paris, london],  \n",
    "                ignore_index=False\n",
    ")"
   ]
  },
  {
   "cell_type": "markdown",
   "id": "16a4c30e-083c-41aa-9bdd-c502020e0927",
   "metadata": {},
   "source": [
    "-----"
   ]
  },
  {
   "cell_type": "markdown",
   "id": "4476fa64-8bee-43a5-89f7-bd429ceb2bd4",
   "metadata": {},
   "source": [
    "### Is the data large enough? "
   ]
  },
  {
   "cell_type": "code",
   "execution_count": 12,
   "id": "334a5396-e2e1-453b-9b8a-ab87055dcc99",
   "metadata": {},
   "outputs": [
    {
     "data": {
      "text/plain": [
       "(477605, 75)"
      ]
     },
     "execution_count": 12,
     "metadata": {},
     "output_type": "execute_result"
    }
   ],
   "source": [
    "# Initial idea of the data I have pulled in \n",
    "bnb.shape"
   ]
  },
  {
   "cell_type": "markdown",
   "id": "a08f0a2a-33cc-4bda-9d37-f58cc50aa993",
   "metadata": {},
   "source": [
    "### Feature investigation"
   ]
  },
  {
   "cell_type": "code",
   "execution_count": 13,
   "id": "0a01ed01-4f32-4c40-88f0-36a0d2cef2f8",
   "metadata": {},
   "outputs": [
    {
     "data": {
      "text/plain": [
       "object     33\n",
       "float64    26\n",
       "int64      16\n",
       "dtype: int64"
      ]
     },
     "execution_count": 13,
     "metadata": {},
     "output_type": "execute_result"
    }
   ],
   "source": [
    "# Looking at the count of data types \n",
    "bnb.dtypes.value_counts()"
   ]
  },
  {
   "cell_type": "code",
   "execution_count": 14,
   "id": "e0344dfd-2047-4108-ae9b-7e5e4dadbb86",
   "metadata": {},
   "outputs": [
    {
     "name": "stdout",
     "output_type": "stream",
     "text": [
      "<class 'pandas.core.frame.DataFrame'>\n",
      "Int64Index: 477605 entries, 0 to 70616\n",
      "Data columns (total 75 columns):\n",
      " #   Column                                        Non-Null Count   Dtype  \n",
      "---  ------                                        --------------   -----  \n",
      " 0   id                                            477605 non-null  int64  \n",
      " 1   listing_url                                   477605 non-null  object \n",
      " 2   scrape_id                                     477605 non-null  float64\n",
      " 3   last_scraped                                  477605 non-null  object \n",
      " 4   name                                          477334 non-null  object \n",
      " 5   description                                   465311 non-null  object \n",
      " 6   neighborhood_overview                         282788 non-null  object \n",
      " 7   picture_url                                   477601 non-null  object \n",
      " 8   host_id                                       477605 non-null  int64  \n",
      " 9   host_url                                      477605 non-null  object \n",
      " 10  host_name                                     476730 non-null  object \n",
      " 11  host_since                                    476730 non-null  object \n",
      " 12  host_location                                 475770 non-null  object \n",
      " 13  host_about                                    251952 non-null  object \n",
      " 14  host_response_time                            242519 non-null  object \n",
      " 15  host_response_rate                            242519 non-null  object \n",
      " 16  host_acceptance_rate                          260601 non-null  object \n",
      " 17  host_is_superhost                             476730 non-null  object \n",
      " 18  host_thumbnail_url                            476730 non-null  object \n",
      " 19  host_picture_url                              476730 non-null  object \n",
      " 20  host_neighbourhood                            327839 non-null  object \n",
      " 21  host_listings_count                           476730 non-null  float64\n",
      " 22  host_total_listings_count                     476730 non-null  float64\n",
      " 23  host_verifications                            477605 non-null  object \n",
      " 24  host_has_profile_pic                          476730 non-null  object \n",
      " 25  host_identity_verified                        476730 non-null  object \n",
      " 26  neighbourhood                                 282792 non-null  object \n",
      " 27  neighbourhood_cleansed                        477605 non-null  object \n",
      " 28  neighbourhood_group_cleansed                  0 non-null       float64\n",
      " 29  latitude                                      477605 non-null  float64\n",
      " 30  longitude                                     477605 non-null  float64\n",
      " 31  property_type                                 477605 non-null  object \n",
      " 32  room_type                                     477605 non-null  object \n",
      " 33  accommodates                                  477605 non-null  int64  \n",
      " 34  bathrooms                                     0 non-null       float64\n",
      " 35  baths                                         474031 non-null  float64\n",
      " 36  bedrooms                                      424157 non-null  float64\n",
      " 37  beds                                          465598 non-null  float64\n",
      " 38  amenities                                     477605 non-null  object \n",
      " 39  price                                         428176 non-null  float64\n",
      " 40  minimum_nights                                477605 non-null  int64  \n",
      " 41  maximum_nights                                477605 non-null  int64  \n",
      " 42  minimum_minimum_nights                        477569 non-null  float64\n",
      " 43  maximum_minimum_nights                        477569 non-null  float64\n",
      " 44  minimum_maximum_nights                        477569 non-null  float64\n",
      " 45  maximum_maximum_nights                        477569 non-null  float64\n",
      " 46  minimum_nights_avg_ntm                        477569 non-null  float64\n",
      " 47  maximum_nights_avg_ntm                        477569 non-null  float64\n",
      " 48  calendar_updated                              0 non-null       float64\n",
      " 49  has_availability                              477605 non-null  object \n",
      " 50  availability_30                               477605 non-null  int64  \n",
      " 51  availability_60                               477605 non-null  int64  \n",
      " 52  availability_90                               477605 non-null  int64  \n",
      " 53  availability_365                              477605 non-null  int64  \n",
      " 54  calendar_last_scraped                         477605 non-null  object \n",
      " 55  number_of_reviews                             477605 non-null  int64  \n",
      " 56  number_of_reviews_ltm                         477605 non-null  int64  \n",
      " 57  number_of_reviews_l30d                        477605 non-null  int64  \n",
      " 58  first_review                                  358156 non-null  object \n",
      " 59  last_review                                   358156 non-null  object \n",
      " 60  review_scores_rating                          358156 non-null  float64\n",
      " 61  review_scores_accuracy                        350393 non-null  float64\n",
      " 62  review_scores_cleanliness                     350458 non-null  float64\n",
      " 63  review_scores_checkin                         350190 non-null  float64\n",
      " 64  review_scores_communication                   350377 non-null  float64\n",
      " 65  review_scores_location                        350180 non-null  float64\n",
      " 66  review_scores_value                           350158 non-null  float64\n",
      " 67  license                                       117026 non-null  object \n",
      " 68  instant_bookable                              477605 non-null  object \n",
      " 69  calculated_host_listings_count                477605 non-null  int64  \n",
      " 70  calculated_host_listings_count_entire_homes   477605 non-null  int64  \n",
      " 71  calculated_host_listings_count_private_rooms  477605 non-null  int64  \n",
      " 72  calculated_host_listings_count_shared_rooms   477605 non-null  int64  \n",
      " 73  reviews_per_month                             358156 non-null  float64\n",
      " 74  city                                          477605 non-null  object \n",
      "dtypes: float64(26), int64(16), object(33)\n",
      "memory usage: 276.9+ MB\n"
     ]
    }
   ],
   "source": [
    "# Looking at column names, nulls, & data types. \n",
    "bnb.info()"
   ]
  },
  {
   "cell_type": "markdown",
   "id": "da5a82bd-5f0c-4dc0-8a2e-e4a7ec64e9e5",
   "metadata": {},
   "source": [
    "### Clean the data: Drop Features"
   ]
  },
  {
   "cell_type": "code",
   "execution_count": 15,
   "id": "3b42e5bb-0ba0-4682-afb1-231c239c8305",
   "metadata": {},
   "outputs": [],
   "source": [
    "city = bnb.pop('city')"
   ]
  },
  {
   "cell_type": "code",
   "execution_count": 16,
   "id": "f10d98e7-fe27-4795-b107-e97edc9948b5",
   "metadata": {
    "tags": []
   },
   "outputs": [],
   "source": [
    "# Using label call to drop unnecessary features of the dataframe\n",
    "bnb.drop(labels=['id', 'listing_url', 'scrape_id', \n",
    "                 'last_scraped', 'name', 'description', 'neighborhood_overview', \n",
    "                 'picture_url', 'host_url', 'host_name', \n",
    "                 'host_since', 'host_location', 'host_about', \n",
    "                 'host_response_time', 'host_response_rate', 'host_acceptance_rate', \n",
    "                 'host_thumbnail_url', 'host_picture_url', 'host_neighbourhood', \n",
    "                 'host_listings_count', 'host_total_listings_count', 'host_verifications', \n",
    "                 'host_has_profile_pic', 'host_identity_verified', 'neighbourhood', \n",
    "                 'neighbourhood_group_cleansed', 'calendar_updated', 'bathrooms', \n",
    "                 'bedrooms', 'calendar_last_scraped', 'number_of_reviews', \n",
    "                 'number_of_reviews_ltm', 'number_of_reviews_l30d', 'first_review', \n",
    "                 'last_review', 'license', 'instant_bookable', 'reviews_per_month'\n",
    "                ], inplace=True, axis=1)"
   ]
  },
  {
   "cell_type": "code",
   "execution_count": 17,
   "id": "29e7647d-b204-4a0e-a54a-5fe2ea839c9f",
   "metadata": {},
   "outputs": [
    {
     "name": "stdout",
     "output_type": "stream",
     "text": [
      "<class 'pandas.core.frame.DataFrame'>\n",
      "Int64Index: 477605 entries, 0 to 70616\n",
      "Data columns (total 36 columns):\n",
      " #   Column                                        Non-Null Count   Dtype  \n",
      "---  ------                                        --------------   -----  \n",
      " 0   host_id                                       477605 non-null  int64  \n",
      " 1   host_is_superhost                             476730 non-null  object \n",
      " 2   neighbourhood_cleansed                        477605 non-null  object \n",
      " 3   latitude                                      477605 non-null  float64\n",
      " 4   longitude                                     477605 non-null  float64\n",
      " 5   property_type                                 477605 non-null  object \n",
      " 6   room_type                                     477605 non-null  object \n",
      " 7   accommodates                                  477605 non-null  int64  \n",
      " 8   baths                                         474031 non-null  float64\n",
      " 9   beds                                          465598 non-null  float64\n",
      " 10  amenities                                     477605 non-null  object \n",
      " 11  price                                         428176 non-null  float64\n",
      " 12  minimum_nights                                477605 non-null  int64  \n",
      " 13  maximum_nights                                477605 non-null  int64  \n",
      " 14  minimum_minimum_nights                        477569 non-null  float64\n",
      " 15  maximum_minimum_nights                        477569 non-null  float64\n",
      " 16  minimum_maximum_nights                        477569 non-null  float64\n",
      " 17  maximum_maximum_nights                        477569 non-null  float64\n",
      " 18  minimum_nights_avg_ntm                        477569 non-null  float64\n",
      " 19  maximum_nights_avg_ntm                        477569 non-null  float64\n",
      " 20  has_availability                              477605 non-null  object \n",
      " 21  availability_30                               477605 non-null  int64  \n",
      " 22  availability_60                               477605 non-null  int64  \n",
      " 23  availability_90                               477605 non-null  int64  \n",
      " 24  availability_365                              477605 non-null  int64  \n",
      " 25  review_scores_rating                          358156 non-null  float64\n",
      " 26  review_scores_accuracy                        350393 non-null  float64\n",
      " 27  review_scores_cleanliness                     350458 non-null  float64\n",
      " 28  review_scores_checkin                         350190 non-null  float64\n",
      " 29  review_scores_communication                   350377 non-null  float64\n",
      " 30  review_scores_location                        350180 non-null  float64\n",
      " 31  review_scores_value                           350158 non-null  float64\n",
      " 32  calculated_host_listings_count                477605 non-null  int64  \n",
      " 33  calculated_host_listings_count_entire_homes   477605 non-null  int64  \n",
      " 34  calculated_host_listings_count_private_rooms  477605 non-null  int64  \n",
      " 35  calculated_host_listings_count_shared_rooms   477605 non-null  int64  \n",
      "dtypes: float64(18), int64(12), object(6)\n",
      "memory usage: 134.8+ MB\n"
     ]
    }
   ],
   "source": [
    "# Checking to ensure I have dropped all the features I do not want to include in the modeling phase. \n",
    "bnb.info()"
   ]
  },
  {
   "cell_type": "code",
   "execution_count": 18,
   "id": "a5269b28-b967-4148-984e-242e5303cb64",
   "metadata": {},
   "outputs": [],
   "source": [
    "bnb.insert(0, 'city', city)"
   ]
  },
  {
   "cell_type": "markdown",
   "id": "59a2cf92-fab0-4ae2-a429-5dc0da78ee99",
   "metadata": {},
   "source": [
    "### Clean the data: Renaming columns "
   ]
  },
  {
   "cell_type": "code",
   "execution_count": 19,
   "id": "7f110a8a-80d3-4c38-9825-d3f59a4c2ddb",
   "metadata": {},
   "outputs": [],
   "source": [
    "# What can I say I am used to spelling neighborhood with a 'u'? \n",
    "bnb.rename(columns={'neighbourhood_cleansed': 'neighborhood'}, inplace=True)"
   ]
  },
  {
   "cell_type": "code",
   "execution_count": 20,
   "id": "170f533e-7bab-42da-be90-1ccc8814bc4f",
   "metadata": {},
   "outputs": [],
   "source": [
    "bnb.rename(columns={'host_is_superhost':'superhost'}, inplace=True)"
   ]
  },
  {
   "cell_type": "markdown",
   "id": "10d9bba7-1482-4735-9515-04cffa394d90",
   "metadata": {},
   "source": [
    "### Clean the data: Map features"
   ]
  },
  {
   "cell_type": "code",
   "execution_count": 21,
   "id": "8267b89f-d4c2-4bef-a3bf-f315dfcc1866",
   "metadata": {},
   "outputs": [],
   "source": [
    "bnb['superhost'] = bnb['superhost'].map({'f': 0, 't': 1})\n",
    "\n",
    "bnb['superhost'] = bnb['superhost'].fillna(bnb['superhost'] == 0).astype(int)"
   ]
  },
  {
   "cell_type": "code",
   "execution_count": 22,
   "id": "bfd723a5-1680-47e3-bea3-546417bd6314",
   "metadata": {},
   "outputs": [],
   "source": [
    "bnb['has_availability'] = bnb['has_availability'].map({'f': 0, 't': 1})"
   ]
  },
  {
   "cell_type": "code",
   "execution_count": 23,
   "id": "174d9f03-b166-49be-b416-118d6ef42781",
   "metadata": {},
   "outputs": [],
   "source": [
    "# I will be mapping this feature later during modeling; however, I need to keep this \n",
    "# feature as an object for EDA clarification purposes.\n",
    "# bnb['city'] = bnb['city'].map({'paris': 0, 'london': 1})"
   ]
  },
  {
   "cell_type": "markdown",
   "id": "9f02654c-516d-4bb9-821e-d32fac66613b",
   "metadata": {},
   "source": [
    "### Clean the data: Null values"
   ]
  },
  {
   "cell_type": "code",
   "execution_count": 24,
   "id": "ca82249e-3038-4077-9c31-d3e63a710b66",
   "metadata": {},
   "outputs": [
    {
     "data": {
      "text/plain": [
       "review_scores_value            26.68\n",
       "review_scores_location         26.68\n",
       "review_scores_checkin          26.68\n",
       "review_scores_communication    26.64\n",
       "review_scores_accuracy         26.64\n",
       "review_scores_cleanliness      26.62\n",
       "review_scores_rating           25.01\n",
       "price                          10.35\n",
       "beds                            2.51\n",
       "baths                           0.75\n",
       "minimum_minimum_nights          0.01\n",
       "maximum_nights_avg_ntm          0.01\n",
       "minimum_nights_avg_ntm          0.01\n",
       "minimum_maximum_nights          0.01\n",
       "maximum_minimum_nights          0.01\n",
       "dtype: float64"
      ]
     },
     "execution_count": 24,
     "metadata": {},
     "output_type": "execute_result"
    }
   ],
   "source": [
    "# Getting percentages of missing values. \n",
    "bnb.isnull().mean().round(4).mul(100).sort_values(ascending=False)[:15]"
   ]
  },
  {
   "cell_type": "markdown",
   "id": "0e0a6d46-089b-4811-9e29-e8a0bc8649f2",
   "metadata": {},
   "source": [
    "## Investigating null values"
   ]
  },
  {
   "cell_type": "code",
   "execution_count": 25,
   "id": "f049555a-692c-403c-915c-5f8955d1549e",
   "metadata": {},
   "outputs": [
    {
     "data": {
      "image/png": "[encoded data removed]",
      "text/plain": [
       "<Figure size 1800x720 with 2 Axes>"
      ]
     },
     "metadata": {},
     "output_type": "display_data"
    }
   ],
   "source": [
    "msno.matrix(bnb);"
   ]
  },
  {
   "cell_type": "code",
   "execution_count": 26,
   "id": "6ca0659c-e33f-41db-8a94-e8905bf8db1b",
   "metadata": {},
   "outputs": [
    {
     "data": {
      "text/html": [
       "<div>\n",
       "<style scoped>\n",
       "    .dataframe tbody tr th:only-of-type {\n",
       "        vertical-align: middle;\n",
       "    }\n",
       "\n",
       "    .dataframe tbody tr th {\n",
       "        vertical-align: top;\n",
       "    }\n",
       "\n",
       "    .dataframe thead th {\n",
       "        text-align: right;\n",
       "    }\n",
       "</style>\n",
       "<table border=\"1\" class=\"dataframe\">\n",
       "  <thead>\n",
       "    <tr style=\"text-align: right;\">\n",
       "      <th></th>\n",
       "      <th>city</th>\n",
       "      <th>host_id</th>\n",
       "      <th>superhost</th>\n",
       "      <th>neighborhood</th>\n",
       "      <th>latitude</th>\n",
       "      <th>longitude</th>\n",
       "      <th>property_type</th>\n",
       "      <th>room_type</th>\n",
       "      <th>accommodates</th>\n",
       "      <th>baths</th>\n",
       "      <th>...</th>\n",
       "      <th>review_scores_accuracy</th>\n",
       "      <th>review_scores_cleanliness</th>\n",
       "      <th>review_scores_checkin</th>\n",
       "      <th>review_scores_communication</th>\n",
       "      <th>review_scores_location</th>\n",
       "      <th>review_scores_value</th>\n",
       "      <th>calculated_host_listings_count</th>\n",
       "      <th>calculated_host_listings_count_entire_homes</th>\n",
       "      <th>calculated_host_listings_count_private_rooms</th>\n",
       "      <th>calculated_host_listings_count_shared_rooms</th>\n",
       "    </tr>\n",
       "  </thead>\n",
       "  <tbody>\n",
       "    <tr>\n",
       "      <th>0</th>\n",
       "      <td>paris</td>\n",
       "      <td>7903</td>\n",
       "      <td>0</td>\n",
       "      <td>Hôtel-de-Ville</td>\n",
       "      <td>48.85247</td>\n",
       "      <td>2.35835</td>\n",
       "      <td>Entire rental unit</td>\n",
       "      <td>Entire home/apt</td>\n",
       "      <td>2</td>\n",
       "      <td>1.0</td>\n",
       "      <td>...</td>\n",
       "      <td>4.56</td>\n",
       "      <td>4.48</td>\n",
       "      <td>4.77</td>\n",
       "      <td>4.81</td>\n",
       "      <td>4.96</td>\n",
       "      <td>4.53</td>\n",
       "      <td>1</td>\n",
       "      <td>1</td>\n",
       "      <td>0</td>\n",
       "      <td>0</td>\n",
       "    </tr>\n",
       "    <tr>\n",
       "      <th>1</th>\n",
       "      <td>paris</td>\n",
       "      <td>2626</td>\n",
       "      <td>1</td>\n",
       "      <td>Hôtel-de-Ville</td>\n",
       "      <td>48.85909</td>\n",
       "      <td>2.35315</td>\n",
       "      <td>Entire rental unit</td>\n",
       "      <td>Entire home/apt</td>\n",
       "      <td>4</td>\n",
       "      <td>1.0</td>\n",
       "      <td>...</td>\n",
       "      <td>4.79</td>\n",
       "      <td>4.43</td>\n",
       "      <td>4.91</td>\n",
       "      <td>4.88</td>\n",
       "      <td>4.92</td>\n",
       "      <td>4.71</td>\n",
       "      <td>2</td>\n",
       "      <td>2</td>\n",
       "      <td>0</td>\n",
       "      <td>0</td>\n",
       "    </tr>\n",
       "  </tbody>\n",
       "</table>\n",
       "<p>2 rows × 37 columns</p>\n",
       "</div>"
      ],
      "text/plain": [
       "    city  host_id  superhost    neighborhood  latitude  longitude  \\\n",
       "0  paris     7903          0  Hôtel-de-Ville  48.85247    2.35835   \n",
       "1  paris     2626          1  Hôtel-de-Ville  48.85909    2.35315   \n",
       "\n",
       "        property_type        room_type  accommodates  baths  ...  \\\n",
       "0  Entire rental unit  Entire home/apt             2    1.0  ...   \n",
       "1  Entire rental unit  Entire home/apt             4    1.0  ...   \n",
       "\n",
       "   review_scores_accuracy review_scores_cleanliness  review_scores_checkin  \\\n",
       "0                    4.56                      4.48                   4.77   \n",
       "1                    4.79                      4.43                   4.91   \n",
       "\n",
       "   review_scores_communication  review_scores_location  review_scores_value  \\\n",
       "0                         4.81                    4.96                 4.53   \n",
       "1                         4.88                    4.92                 4.71   \n",
       "\n",
       "   calculated_host_listings_count  \\\n",
       "0                               1   \n",
       "1                               2   \n",
       "\n",
       "   calculated_host_listings_count_entire_homes  \\\n",
       "0                                            1   \n",
       "1                                            2   \n",
       "\n",
       "   calculated_host_listings_count_private_rooms  \\\n",
       "0                                             0   \n",
       "1                                             0   \n",
       "\n",
       "   calculated_host_listings_count_shared_rooms  \n",
       "0                                            0  \n",
       "1                                            0  \n",
       "\n",
       "[2 rows x 37 columns]"
      ]
     },
     "execution_count": 26,
     "metadata": {},
     "output_type": "execute_result"
    }
   ],
   "source": [
    "null_price = bnb.loc[bnb['price'].isnull()]\n",
    "null_price.head(2)"
   ]
  },
  {
   "cell_type": "code",
   "execution_count": 27,
   "id": "f4ca5f43-f31c-41a5-be37-32053dfbdfdb",
   "metadata": {},
   "outputs": [
    {
     "data": {
      "text/plain": [
       "paris    49429\n",
       "Name: city, dtype: int64"
      ]
     },
     "execution_count": 27,
     "metadata": {},
     "output_type": "execute_result"
    }
   ],
   "source": [
    "null_price['city'].value_counts()"
   ]
  },
  {
   "cell_type": "code",
   "execution_count": 28,
   "id": "def3879e-9f2d-4803-9286-f33ca172eb41",
   "metadata": {},
   "outputs": [
    {
     "data": {
      "text/plain": [
       "1125.0    33928\n",
       "365.0      2439\n",
       "30.0       1726\n",
       "7.0        1340\n",
       "15.0        856\n",
       "Name: minimum_maximum_nights, dtype: int64"
      ]
     },
     "execution_count": 28,
     "metadata": {},
     "output_type": "execute_result"
    }
   ],
   "source": [
    "null_price['minimum_maximum_nights'].value_counts().sort_values(ascending=False).head()"
   ]
  },
  {
   "cell_type": "code",
   "execution_count": 29,
   "id": "4a90673b-c502-4884-9c94-803830d1dd11",
   "metadata": {},
   "outputs": [],
   "source": [
    "# Dropping null values in columns with less than ~ 3% null values.\n",
    "bnb = bnb.dropna(subset=['beds', 'baths', 'price', 'minimum_minimum_nights', 'maximum_nights_avg_ntm', 'minimum_nights_avg_ntm', 'minimum_maximum_nights'])"
   ]
  },
  {
   "cell_type": "code",
   "execution_count": 30,
   "id": "1ad30741-0766-4d7b-a59e-879b77e01569",
   "metadata": {},
   "outputs": [],
   "source": [
    "bnb['baths'].replace({0.0: 1}, inplace=True)"
   ]
  },
  {
   "cell_type": "code",
   "execution_count": 31,
   "id": "0f836548-143b-446e-af56-5b332b1b2cf8",
   "metadata": {},
   "outputs": [],
   "source": [
    "bnb['beds'].replace({0.0: 1}, inplace=True)"
   ]
  },
  {
   "cell_type": "code",
   "execution_count": 32,
   "id": "c7bc1cad-bb36-47ad-987a-81dc15d6b2b9",
   "metadata": {},
   "outputs": [
    {
     "data": {
      "text/plain": [
       "float64    18\n",
       "int64      14\n",
       "object      5\n",
       "dtype: int64"
      ]
     },
     "execution_count": 32,
     "metadata": {},
     "output_type": "execute_result"
    }
   ],
   "source": [
    "bnb.dtypes.value_counts()"
   ]
  },
  {
   "cell_type": "markdown",
   "id": "8f11be08-e740-4441-a3b3-07b0ce17cacd",
   "metadata": {},
   "source": [
    "## Data Cleaning Insights: \n",
    "After loading in my dataset, I checked to ensure the dataset was large enough for this capstone project. Next, I wanted to look at the ratio of numeric to categorical features. Initially, the listing dataset had 74 columns of which several I found not only wouldn't be helpful with modeling, but also contain 50% or more null values. As a result, I chose to drop a substantial amount of features. \n",
    "\n",
    "Additionally, I renamed and binarized superhost, city, and availability to use for later in the modeling phase. During one iteration of EDA, I noticed outliers in my beds & baths features to which I decided to drop all listings with null values for beds & baths since they made up less than 2% and less than 1% of the feature values respectively. Also, I will be digging into listing price, beds, and baths columns to ensure the outliers are addressed in order to help my model's pricing prediction accuracy. \n",
    "\n",
    "There are ~50,000 null values in the price column. I chose to drop these values for the following reasons. When looking at the msno matrix, there was a large gap in the price column which upon further investigation led me to use loc and produce a subset of the data. When digging in further, I noticed the majority of rows in this subset were listed as rental unit under property type and located in the city of Paris. \n",
    "\n",
    "The feature minimum_maximum_nights gives the minimum window of time a client must stay in the listing. A value count uncovered the majority, of values in this subset were 1125 or roughly three years which is the average lease length of an unfurnished unit in France. \n",
    "\n",
    "With this being said, I can say with confidence the majority of these listings have the price left out for a reason. The reason being price flutuation and keeping some confidentiality between landlord and tenant. I feel the amount of data I will be left with is more than enough which was required for this capstone assignment. \n",
    "\n",
    "In addition to pricing, I will be dropping additional null values in the feature columns listed below since the remaining null values equate to less than 2% in each column.  "
   ]
  },
  {
   "cell_type": "markdown",
   "id": "e7c80d8d-fcd2-46ed-8f49-3e014aebd9a3",
   "metadata": {},
   "source": [
    "-----"
   ]
  },
  {
   "cell_type": "markdown",
   "id": "b405b077-0102-488c-9a6f-d3f670c9d393",
   "metadata": {
    "tags": []
   },
   "source": [
    "## EDA"
   ]
  },
  {
   "cell_type": "code",
   "execution_count": 33,
   "id": "032d47c1-7f96-4ccb-ae9a-04830df41475",
   "metadata": {},
   "outputs": [],
   "source": [
    "# Making copy of df for EDA \n",
    "df_eda = bnb.copy()"
   ]
  },
  {
   "cell_type": "code",
   "execution_count": 34,
   "id": "22a49a3e-e735-4216-8871-468217c03418",
   "metadata": {},
   "outputs": [
    {
     "data": {
      "text/html": [
       "<div>\n",
       "<style scoped>\n",
       "    .dataframe tbody tr th:only-of-type {\n",
       "        vertical-align: middle;\n",
       "    }\n",
       "\n",
       "    .dataframe tbody tr th {\n",
       "        vertical-align: top;\n",
       "    }\n",
       "\n",
       "    .dataframe thead th {\n",
       "        text-align: right;\n",
       "    }\n",
       "</style>\n",
       "<table border=\"1\" class=\"dataframe\">\n",
       "  <thead>\n",
       "    <tr style=\"text-align: right;\">\n",
       "      <th></th>\n",
       "      <th>count</th>\n",
       "      <th>mean</th>\n",
       "      <th>std</th>\n",
       "      <th>min</th>\n",
       "      <th>25%</th>\n",
       "      <th>50%</th>\n",
       "      <th>75%</th>\n",
       "      <th>max</th>\n",
       "    </tr>\n",
       "  </thead>\n",
       "  <tbody>\n",
       "    <tr>\n",
       "      <th>host_id</th>\n",
       "      <td>415512.0</td>\n",
       "      <td>1.056314e+08</td>\n",
       "      <td>1.205942e+08</td>\n",
       "      <td>2010.00000</td>\n",
       "      <td>1.576790e+07</td>\n",
       "      <td>4.816502e+07</td>\n",
       "      <td>1.634559e+08</td>\n",
       "      <td>4.628361e+08</td>\n",
       "    </tr>\n",
       "    <tr>\n",
       "      <th>superhost</th>\n",
       "      <td>415512.0</td>\n",
       "      <td>1.320973e-01</td>\n",
       "      <td>3.385969e-01</td>\n",
       "      <td>0.00000</td>\n",
       "      <td>0.000000e+00</td>\n",
       "      <td>0.000000e+00</td>\n",
       "      <td>0.000000e+00</td>\n",
       "      <td>1.000000e+00</td>\n",
       "    </tr>\n",
       "    <tr>\n",
       "      <th>latitude</th>\n",
       "      <td>415512.0</td>\n",
       "      <td>5.052516e+01</td>\n",
       "      <td>1.279514e+00</td>\n",
       "      <td>48.80375</td>\n",
       "      <td>4.887371e+01</td>\n",
       "      <td>5.147445e+01</td>\n",
       "      <td>5.152234e+01</td>\n",
       "      <td>5.170893e+01</td>\n",
       "    </tr>\n",
       "    <tr>\n",
       "      <th>longitude</th>\n",
       "      <td>415512.0</td>\n",
       "      <td>7.918724e-01</td>\n",
       "      <td>1.197881e+00</td>\n",
       "      <td>-0.52360</td>\n",
       "      <td>-1.483700e-01</td>\n",
       "      <td>-5.754000e-02</td>\n",
       "      <td>2.332790e+00</td>\n",
       "      <td>2.487250e+00</td>\n",
       "    </tr>\n",
       "    <tr>\n",
       "      <th>accommodates</th>\n",
       "      <td>415512.0</td>\n",
       "      <td>3.058581e+00</td>\n",
       "      <td>1.835254e+00</td>\n",
       "      <td>1.00000</td>\n",
       "      <td>2.000000e+00</td>\n",
       "      <td>2.000000e+00</td>\n",
       "      <td>4.000000e+00</td>\n",
       "      <td>1.600000e+01</td>\n",
       "    </tr>\n",
       "    <tr>\n",
       "      <th>baths</th>\n",
       "      <td>415512.0</td>\n",
       "      <td>1.251934e+00</td>\n",
       "      <td>6.541292e-01</td>\n",
       "      <td>1.00000</td>\n",
       "      <td>1.000000e+00</td>\n",
       "      <td>1.000000e+00</td>\n",
       "      <td>1.000000e+00</td>\n",
       "      <td>5.000000e+01</td>\n",
       "    </tr>\n",
       "    <tr>\n",
       "      <th>beds</th>\n",
       "      <td>415512.0</td>\n",
       "      <td>1.743690e+00</td>\n",
       "      <td>1.300077e+00</td>\n",
       "      <td>1.00000</td>\n",
       "      <td>1.000000e+00</td>\n",
       "      <td>1.000000e+00</td>\n",
       "      <td>2.000000e+00</td>\n",
       "      <td>9.000000e+01</td>\n",
       "    </tr>\n",
       "    <tr>\n",
       "      <th>price</th>\n",
       "      <td>415512.0</td>\n",
       "      <td>1.460559e+02</td>\n",
       "      <td>3.303522e+02</td>\n",
       "      <td>0.00000</td>\n",
       "      <td>5.500000e+01</td>\n",
       "      <td>9.000000e+01</td>\n",
       "      <td>1.500000e+02</td>\n",
       "      <td>2.000000e+04</td>\n",
       "    </tr>\n",
       "    <tr>\n",
       "      <th>minimum_nights</th>\n",
       "      <td>415512.0</td>\n",
       "      <td>4.172402e+01</td>\n",
       "      <td>1.127963e+02</td>\n",
       "      <td>1.00000</td>\n",
       "      <td>1.000000e+00</td>\n",
       "      <td>3.000000e+00</td>\n",
       "      <td>5.000000e+00</td>\n",
       "      <td>9.999000e+03</td>\n",
       "    </tr>\n",
       "    <tr>\n",
       "      <th>maximum_nights</th>\n",
       "      <td>415512.0</td>\n",
       "      <td>1.195039e+04</td>\n",
       "      <td>3.035008e+06</td>\n",
       "      <td>1.00000</td>\n",
       "      <td>6.000000e+01</td>\n",
       "      <td>1.125000e+03</td>\n",
       "      <td>1.125000e+03</td>\n",
       "      <td>1.000000e+09</td>\n",
       "    </tr>\n",
       "    <tr>\n",
       "      <th>minimum_minimum_nights</th>\n",
       "      <td>415512.0</td>\n",
       "      <td>4.206058e+01</td>\n",
       "      <td>1.132035e+02</td>\n",
       "      <td>1.00000</td>\n",
       "      <td>1.000000e+00</td>\n",
       "      <td>3.000000e+00</td>\n",
       "      <td>5.000000e+00</td>\n",
       "      <td>9.999000e+03</td>\n",
       "    </tr>\n",
       "    <tr>\n",
       "      <th>maximum_minimum_nights</th>\n",
       "      <td>415512.0</td>\n",
       "      <td>4.511380e+01</td>\n",
       "      <td>1.174884e+02</td>\n",
       "      <td>1.00000</td>\n",
       "      <td>2.000000e+00</td>\n",
       "      <td>3.000000e+00</td>\n",
       "      <td>7.000000e+00</td>\n",
       "      <td>9.999000e+03</td>\n",
       "    </tr>\n",
       "    <tr>\n",
       "      <th>minimum_maximum_nights</th>\n",
       "      <td>415512.0</td>\n",
       "      <td>4.151545e+05</td>\n",
       "      <td>2.957614e+07</td>\n",
       "      <td>1.00000</td>\n",
       "      <td>9.000000e+01</td>\n",
       "      <td>1.125000e+03</td>\n",
       "      <td>1.125000e+03</td>\n",
       "      <td>2.147484e+09</td>\n",
       "    </tr>\n",
       "    <tr>\n",
       "      <th>maximum_maximum_nights</th>\n",
       "      <td>415512.0</td>\n",
       "      <td>7.872876e+05</td>\n",
       "      <td>4.090741e+07</td>\n",
       "      <td>1.00000</td>\n",
       "      <td>1.200000e+02</td>\n",
       "      <td>1.125000e+03</td>\n",
       "      <td>1.125000e+03</td>\n",
       "      <td>2.147484e+09</td>\n",
       "    </tr>\n",
       "    <tr>\n",
       "      <th>minimum_nights_avg_ntm</th>\n",
       "      <td>415512.0</td>\n",
       "      <td>4.374226e+01</td>\n",
       "      <td>1.154345e+02</td>\n",
       "      <td>1.00000</td>\n",
       "      <td>2.000000e+00</td>\n",
       "      <td>3.000000e+00</td>\n",
       "      <td>6.800000e+00</td>\n",
       "      <td>9.999000e+03</td>\n",
       "    </tr>\n",
       "    <tr>\n",
       "      <th>maximum_nights_avg_ntm</th>\n",
       "      <td>415512.0</td>\n",
       "      <td>6.755731e+05</td>\n",
       "      <td>3.660779e+07</td>\n",
       "      <td>1.00000</td>\n",
       "      <td>1.200000e+02</td>\n",
       "      <td>1.125000e+03</td>\n",
       "      <td>1.125000e+03</td>\n",
       "      <td>2.147484e+09</td>\n",
       "    </tr>\n",
       "    <tr>\n",
       "      <th>has_availability</th>\n",
       "      <td>415512.0</td>\n",
       "      <td>9.861689e-01</td>\n",
       "      <td>1.167898e-01</td>\n",
       "      <td>0.00000</td>\n",
       "      <td>1.000000e+00</td>\n",
       "      <td>1.000000e+00</td>\n",
       "      <td>1.000000e+00</td>\n",
       "      <td>1.000000e+00</td>\n",
       "    </tr>\n",
       "    <tr>\n",
       "      <th>availability_30</th>\n",
       "      <td>415512.0</td>\n",
       "      <td>5.487346e+00</td>\n",
       "      <td>9.415906e+00</td>\n",
       "      <td>0.00000</td>\n",
       "      <td>0.000000e+00</td>\n",
       "      <td>0.000000e+00</td>\n",
       "      <td>7.000000e+00</td>\n",
       "      <td>3.000000e+01</td>\n",
       "    </tr>\n",
       "    <tr>\n",
       "      <th>availability_60</th>\n",
       "      <td>415512.0</td>\n",
       "      <td>1.360014e+01</td>\n",
       "      <td>2.036763e+01</td>\n",
       "      <td>0.00000</td>\n",
       "      <td>0.000000e+00</td>\n",
       "      <td>0.000000e+00</td>\n",
       "      <td>2.400000e+01</td>\n",
       "      <td>6.000000e+01</td>\n",
       "    </tr>\n",
       "    <tr>\n",
       "      <th>availability_90</th>\n",
       "      <td>415512.0</td>\n",
       "      <td>2.329842e+01</td>\n",
       "      <td>3.217901e+01</td>\n",
       "      <td>0.00000</td>\n",
       "      <td>0.000000e+00</td>\n",
       "      <td>0.000000e+00</td>\n",
       "      <td>4.700000e+01</td>\n",
       "      <td>9.000000e+01</td>\n",
       "    </tr>\n",
       "    <tr>\n",
       "      <th>availability_365</th>\n",
       "      <td>415512.0</td>\n",
       "      <td>1.007738e+02</td>\n",
       "      <td>1.314050e+02</td>\n",
       "      <td>0.00000</td>\n",
       "      <td>0.000000e+00</td>\n",
       "      <td>1.000000e+01</td>\n",
       "      <td>1.940000e+02</td>\n",
       "      <td>3.650000e+02</td>\n",
       "    </tr>\n",
       "    <tr>\n",
       "      <th>review_scores_rating</th>\n",
       "      <td>312510.0</td>\n",
       "      <td>4.563458e+00</td>\n",
       "      <td>8.372794e-01</td>\n",
       "      <td>0.00000</td>\n",
       "      <td>4.500000e+00</td>\n",
       "      <td>4.800000e+00</td>\n",
       "      <td>5.000000e+00</td>\n",
       "      <td>5.000000e+00</td>\n",
       "    </tr>\n",
       "    <tr>\n",
       "      <th>review_scores_accuracy</th>\n",
       "      <td>305533.0</td>\n",
       "      <td>4.743686e+00</td>\n",
       "      <td>4.716825e-01</td>\n",
       "      <td>0.00000</td>\n",
       "      <td>4.680000e+00</td>\n",
       "      <td>4.890000e+00</td>\n",
       "      <td>5.000000e+00</td>\n",
       "      <td>5.000000e+00</td>\n",
       "    </tr>\n",
       "    <tr>\n",
       "      <th>review_scores_cleanliness</th>\n",
       "      <td>305590.0</td>\n",
       "      <td>4.611914e+00</td>\n",
       "      <td>5.585042e-01</td>\n",
       "      <td>0.00000</td>\n",
       "      <td>4.500000e+00</td>\n",
       "      <td>4.790000e+00</td>\n",
       "      <td>5.000000e+00</td>\n",
       "      <td>5.000000e+00</td>\n",
       "    </tr>\n",
       "    <tr>\n",
       "      <th>review_scores_checkin</th>\n",
       "      <td>305345.0</td>\n",
       "      <td>4.796269e+00</td>\n",
       "      <td>4.392129e-01</td>\n",
       "      <td>0.00000</td>\n",
       "      <td>4.770000e+00</td>\n",
       "      <td>4.940000e+00</td>\n",
       "      <td>5.000000e+00</td>\n",
       "      <td>5.000000e+00</td>\n",
       "    </tr>\n",
       "    <tr>\n",
       "      <th>review_scores_communication</th>\n",
       "      <td>305517.0</td>\n",
       "      <td>4.809733e+00</td>\n",
       "      <td>4.359450e-01</td>\n",
       "      <td>0.00000</td>\n",
       "      <td>4.800000e+00</td>\n",
       "      <td>4.970000e+00</td>\n",
       "      <td>5.000000e+00</td>\n",
       "      <td>5.000000e+00</td>\n",
       "    </tr>\n",
       "    <tr>\n",
       "      <th>review_scores_location</th>\n",
       "      <td>305337.0</td>\n",
       "      <td>4.768306e+00</td>\n",
       "      <td>3.952391e-01</td>\n",
       "      <td>0.00000</td>\n",
       "      <td>4.690000e+00</td>\n",
       "      <td>4.890000e+00</td>\n",
       "      <td>5.000000e+00</td>\n",
       "      <td>5.000000e+00</td>\n",
       "    </tr>\n",
       "    <tr>\n",
       "      <th>review_scores_value</th>\n",
       "      <td>305318.0</td>\n",
       "      <td>4.627525e+00</td>\n",
       "      <td>4.968247e-01</td>\n",
       "      <td>0.00000</td>\n",
       "      <td>4.500000e+00</td>\n",
       "      <td>4.750000e+00</td>\n",
       "      <td>4.970000e+00</td>\n",
       "      <td>5.000000e+00</td>\n",
       "    </tr>\n",
       "    <tr>\n",
       "      <th>calculated_host_listings_count</th>\n",
       "      <td>415512.0</td>\n",
       "      <td>1.890917e+01</td>\n",
       "      <td>8.515213e+01</td>\n",
       "      <td>1.00000</td>\n",
       "      <td>1.000000e+00</td>\n",
       "      <td>1.000000e+00</td>\n",
       "      <td>3.000000e+00</td>\n",
       "      <td>8.640000e+02</td>\n",
       "    </tr>\n",
       "    <tr>\n",
       "      <th>calculated_host_listings_count_entire_homes</th>\n",
       "      <td>415512.0</td>\n",
       "      <td>1.591728e+01</td>\n",
       "      <td>7.852627e+01</td>\n",
       "      <td>0.00000</td>\n",
       "      <td>0.000000e+00</td>\n",
       "      <td>1.000000e+00</td>\n",
       "      <td>1.000000e+00</td>\n",
       "      <td>8.630000e+02</td>\n",
       "    </tr>\n",
       "    <tr>\n",
       "      <th>calculated_host_listings_count_private_rooms</th>\n",
       "      <td>415512.0</td>\n",
       "      <td>2.651023e+00</td>\n",
       "      <td>1.658014e+01</td>\n",
       "      <td>0.00000</td>\n",
       "      <td>0.000000e+00</td>\n",
       "      <td>0.000000e+00</td>\n",
       "      <td>1.000000e+00</td>\n",
       "      <td>2.490000e+02</td>\n",
       "    </tr>\n",
       "    <tr>\n",
       "      <th>calculated_host_listings_count_shared_rooms</th>\n",
       "      <td>415512.0</td>\n",
       "      <td>1.129594e-01</td>\n",
       "      <td>2.312313e+00</td>\n",
       "      <td>0.00000</td>\n",
       "      <td>0.000000e+00</td>\n",
       "      <td>0.000000e+00</td>\n",
       "      <td>0.000000e+00</td>\n",
       "      <td>6.200000e+01</td>\n",
       "    </tr>\n",
       "  </tbody>\n",
       "</table>\n",
       "</div>"
      ],
      "text/plain": [
       "                                                 count          mean  \\\n",
       "host_id                                       415512.0  1.056314e+08   \n",
       "superhost                                     415512.0  1.320973e-01   \n",
       "latitude                                      415512.0  5.052516e+01   \n",
       "longitude                                     415512.0  7.918724e-01   \n",
       "accommodates                                  415512.0  3.058581e+00   \n",
       "baths                                         415512.0  1.251934e+00   \n",
       "beds                                          415512.0  1.743690e+00   \n",
       "price                                         415512.0  1.460559e+02   \n",
       "minimum_nights                                415512.0  4.172402e+01   \n",
       "maximum_nights                                415512.0  1.195039e+04   \n",
       "minimum_minimum_nights                        415512.0  4.206058e+01   \n",
       "maximum_minimum_nights                        415512.0  4.511380e+01   \n",
       "minimum_maximum_nights                        415512.0  4.151545e+05   \n",
       "maximum_maximum_nights                        415512.0  7.872876e+05   \n",
       "minimum_nights_avg_ntm                        415512.0  4.374226e+01   \n",
       "maximum_nights_avg_ntm                        415512.0  6.755731e+05   \n",
       "has_availability                              415512.0  9.861689e-01   \n",
       "availability_30                               415512.0  5.487346e+00   \n",
       "availability_60                               415512.0  1.360014e+01   \n",
       "availability_90                               415512.0  2.329842e+01   \n",
       "availability_365                              415512.0  1.007738e+02   \n",
       "review_scores_rating                          312510.0  4.563458e+00   \n",
       "review_scores_accuracy                        305533.0  4.743686e+00   \n",
       "review_scores_cleanliness                     305590.0  4.611914e+00   \n",
       "review_scores_checkin                         305345.0  4.796269e+00   \n",
       "review_scores_communication                   305517.0  4.809733e+00   \n",
       "review_scores_location                        305337.0  4.768306e+00   \n",
       "review_scores_value                           305318.0  4.627525e+00   \n",
       "calculated_host_listings_count                415512.0  1.890917e+01   \n",
       "calculated_host_listings_count_entire_homes   415512.0  1.591728e+01   \n",
       "calculated_host_listings_count_private_rooms  415512.0  2.651023e+00   \n",
       "calculated_host_listings_count_shared_rooms   415512.0  1.129594e-01   \n",
       "\n",
       "                                                       std         min  \\\n",
       "host_id                                       1.205942e+08  2010.00000   \n",
       "superhost                                     3.385969e-01     0.00000   \n",
       "latitude                                      1.279514e+00    48.80375   \n",
       "longitude                                     1.197881e+00    -0.52360   \n",
       "accommodates                                  1.835254e+00     1.00000   \n",
       "baths                                         6.541292e-01     1.00000   \n",
       "beds                                          1.300077e+00     1.00000   \n",
       "price                                         3.303522e+02     0.00000   \n",
       "minimum_nights                                1.127963e+02     1.00000   \n",
       "maximum_nights                                3.035008e+06     1.00000   \n",
       "minimum_minimum_nights                        1.132035e+02     1.00000   \n",
       "maximum_minimum_nights                        1.174884e+02     1.00000   \n",
       "minimum_maximum_nights                        2.957614e+07     1.00000   \n",
       "maximum_maximum_nights                        4.090741e+07     1.00000   \n",
       "minimum_nights_avg_ntm                        1.154345e+02     1.00000   \n",
       "maximum_nights_avg_ntm                        3.660779e+07     1.00000   \n",
       "has_availability                              1.167898e-01     0.00000   \n",
       "availability_30                               9.415906e+00     0.00000   \n",
       "availability_60                               2.036763e+01     0.00000   \n",
       "availability_90                               3.217901e+01     0.00000   \n",
       "availability_365                              1.314050e+02     0.00000   \n",
       "review_scores_rating                          8.372794e-01     0.00000   \n",
       "review_scores_accuracy                        4.716825e-01     0.00000   \n",
       "review_scores_cleanliness                     5.585042e-01     0.00000   \n",
       "review_scores_checkin                         4.392129e-01     0.00000   \n",
       "review_scores_communication                   4.359450e-01     0.00000   \n",
       "review_scores_location                        3.952391e-01     0.00000   \n",
       "review_scores_value                           4.968247e-01     0.00000   \n",
       "calculated_host_listings_count                8.515213e+01     1.00000   \n",
       "calculated_host_listings_count_entire_homes   7.852627e+01     0.00000   \n",
       "calculated_host_listings_count_private_rooms  1.658014e+01     0.00000   \n",
       "calculated_host_listings_count_shared_rooms   2.312313e+00     0.00000   \n",
       "\n",
       "                                                       25%           50%  \\\n",
       "host_id                                       1.576790e+07  4.816502e+07   \n",
       "superhost                                     0.000000e+00  0.000000e+00   \n",
       "latitude                                      4.887371e+01  5.147445e+01   \n",
       "longitude                                    -1.483700e-01 -5.754000e-02   \n",
       "accommodates                                  2.000000e+00  2.000000e+00   \n",
       "baths                                         1.000000e+00  1.000000e+00   \n",
       "beds                                          1.000000e+00  1.000000e+00   \n",
       "price                                         5.500000e+01  9.000000e+01   \n",
       "minimum_nights                                1.000000e+00  3.000000e+00   \n",
       "maximum_nights                                6.000000e+01  1.125000e+03   \n",
       "minimum_minimum_nights                        1.000000e+00  3.000000e+00   \n",
       "maximum_minimum_nights                        2.000000e+00  3.000000e+00   \n",
       "minimum_maximum_nights                        9.000000e+01  1.125000e+03   \n",
       "maximum_maximum_nights                        1.200000e+02  1.125000e+03   \n",
       "minimum_nights_avg_ntm                        2.000000e+00  3.000000e+00   \n",
       "maximum_nights_avg_ntm                        1.200000e+02  1.125000e+03   \n",
       "has_availability                              1.000000e+00  1.000000e+00   \n",
       "availability_30                               0.000000e+00  0.000000e+00   \n",
       "availability_60                               0.000000e+00  0.000000e+00   \n",
       "availability_90                               0.000000e+00  0.000000e+00   \n",
       "availability_365                              0.000000e+00  1.000000e+01   \n",
       "review_scores_rating                          4.500000e+00  4.800000e+00   \n",
       "review_scores_accuracy                        4.680000e+00  4.890000e+00   \n",
       "review_scores_cleanliness                     4.500000e+00  4.790000e+00   \n",
       "review_scores_checkin                         4.770000e+00  4.940000e+00   \n",
       "review_scores_communication                   4.800000e+00  4.970000e+00   \n",
       "review_scores_location                        4.690000e+00  4.890000e+00   \n",
       "review_scores_value                           4.500000e+00  4.750000e+00   \n",
       "calculated_host_listings_count                1.000000e+00  1.000000e+00   \n",
       "calculated_host_listings_count_entire_homes   0.000000e+00  1.000000e+00   \n",
       "calculated_host_listings_count_private_rooms  0.000000e+00  0.000000e+00   \n",
       "calculated_host_listings_count_shared_rooms   0.000000e+00  0.000000e+00   \n",
       "\n",
       "                                                       75%           max  \n",
       "host_id                                       1.634559e+08  4.628361e+08  \n",
       "superhost                                     0.000000e+00  1.000000e+00  \n",
       "latitude                                      5.152234e+01  5.170893e+01  \n",
       "longitude                                     2.332790e+00  2.487250e+00  \n",
       "accommodates                                  4.000000e+00  1.600000e+01  \n",
       "baths                                         1.000000e+00  5.000000e+01  \n",
       "beds                                          2.000000e+00  9.000000e+01  \n",
       "price                                         1.500000e+02  2.000000e+04  \n",
       "minimum_nights                                5.000000e+00  9.999000e+03  \n",
       "maximum_nights                                1.125000e+03  1.000000e+09  \n",
       "minimum_minimum_nights                        5.000000e+00  9.999000e+03  \n",
       "maximum_minimum_nights                        7.000000e+00  9.999000e+03  \n",
       "minimum_maximum_nights                        1.125000e+03  2.147484e+09  \n",
       "maximum_maximum_nights                        1.125000e+03  2.147484e+09  \n",
       "minimum_nights_avg_ntm                        6.800000e+00  9.999000e+03  \n",
       "maximum_nights_avg_ntm                        1.125000e+03  2.147484e+09  \n",
       "has_availability                              1.000000e+00  1.000000e+00  \n",
       "availability_30                               7.000000e+00  3.000000e+01  \n",
       "availability_60                               2.400000e+01  6.000000e+01  \n",
       "availability_90                               4.700000e+01  9.000000e+01  \n",
       "availability_365                              1.940000e+02  3.650000e+02  \n",
       "review_scores_rating                          5.000000e+00  5.000000e+00  \n",
       "review_scores_accuracy                        5.000000e+00  5.000000e+00  \n",
       "review_scores_cleanliness                     5.000000e+00  5.000000e+00  \n",
       "review_scores_checkin                         5.000000e+00  5.000000e+00  \n",
       "review_scores_communication                   5.000000e+00  5.000000e+00  \n",
       "review_scores_location                        5.000000e+00  5.000000e+00  \n",
       "review_scores_value                           4.970000e+00  5.000000e+00  \n",
       "calculated_host_listings_count                3.000000e+00  8.640000e+02  \n",
       "calculated_host_listings_count_entire_homes   1.000000e+00  8.630000e+02  \n",
       "calculated_host_listings_count_private_rooms  1.000000e+00  2.490000e+02  \n",
       "calculated_host_listings_count_shared_rooms   0.000000e+00  6.200000e+01  "
      ]
     },
     "execution_count": 34,
     "metadata": {},
     "output_type": "execute_result"
    }
   ],
   "source": [
    "# Descriptive statistics to investigate null values\n",
    "df_eda.describe().T"
   ]
  },
  {
   "cell_type": "code",
   "execution_count": 35,
   "id": "ee9e2580-9e8e-4ae7-8b55-ec573de25611",
   "metadata": {},
   "outputs": [
    {
     "data": {
      "text/html": [
       "<div>\n",
       "<style scoped>\n",
       "    .dataframe tbody tr th:only-of-type {\n",
       "        vertical-align: middle;\n",
       "    }\n",
       "\n",
       "    .dataframe tbody tr th {\n",
       "        vertical-align: top;\n",
       "    }\n",
       "\n",
       "    .dataframe thead th {\n",
       "        text-align: right;\n",
       "    }\n",
       "</style>\n",
       "<table border=\"1\" class=\"dataframe\">\n",
       "  <thead>\n",
       "    <tr style=\"text-align: right;\">\n",
       "      <th></th>\n",
       "      <th>price</th>\n",
       "    </tr>\n",
       "  </thead>\n",
       "  <tbody>\n",
       "    <tr>\n",
       "      <th>accommodates</th>\n",
       "      <td>0.248932</td>\n",
       "    </tr>\n",
       "    <tr>\n",
       "      <th>beds</th>\n",
       "      <td>0.198975</td>\n",
       "    </tr>\n",
       "    <tr>\n",
       "      <th>baths</th>\n",
       "      <td>0.180582</td>\n",
       "    </tr>\n",
       "    <tr>\n",
       "      <th>calculated_host_listings_count</th>\n",
       "      <td>0.143309</td>\n",
       "    </tr>\n",
       "    <tr>\n",
       "      <th>calculated_host_listings_count_entire_homes</th>\n",
       "      <td>0.135159</td>\n",
       "    </tr>\n",
       "    <tr>\n",
       "      <th>availability_365</th>\n",
       "      <td>0.094506</td>\n",
       "    </tr>\n",
       "    <tr>\n",
       "      <th>calculated_host_listings_count_private_rooms</th>\n",
       "      <td>0.094431</td>\n",
       "    </tr>\n",
       "    <tr>\n",
       "      <th>availability_30</th>\n",
       "      <td>0.093767</td>\n",
       "    </tr>\n",
       "    <tr>\n",
       "      <th>availability_60</th>\n",
       "      <td>0.091845</td>\n",
       "    </tr>\n",
       "    <tr>\n",
       "      <th>availability_90</th>\n",
       "      <td>0.090988</td>\n",
       "    </tr>\n",
       "  </tbody>\n",
       "</table>\n",
       "</div>"
      ],
      "text/plain": [
       "                                                 price\n",
       "accommodates                                  0.248932\n",
       "beds                                          0.198975\n",
       "baths                                         0.180582\n",
       "calculated_host_listings_count                0.143309\n",
       "calculated_host_listings_count_entire_homes   0.135159\n",
       "availability_365                              0.094506\n",
       "calculated_host_listings_count_private_rooms  0.094431\n",
       "availability_30                               0.093767\n",
       "availability_60                               0.091845\n",
       "availability_90                               0.090988"
      ]
     },
     "execution_count": 35,
     "metadata": {},
     "output_type": "execute_result"
    }
   ],
   "source": [
    "# Checking the correlation between features and the target variable, price\n",
    "features_corr = pd.DataFrame(df_eda.corr().loc['price'].sort_values(ascending=False))\n",
    "features_corr[1:11]"
   ]
  },
  {
   "cell_type": "markdown",
   "id": "bd7fe762-9380-4390-b9ef-35514befaad3",
   "metadata": {},
   "source": [
    "### Features Correlation: \n",
    "All the features most closely related to our target variable are below 25%. In order to improve the model's performance, I need to look at how these features along with the target variable are distributed. Once I have looked at the distributions, I will use IQR to help find upper and lower limits to reign in the effect outliers may be having on these features. By the end, using a statistically driven approach, I will check the features correlation again to see the impact firsthand."
   ]
  },
  {
   "cell_type": "markdown",
   "id": "f99f3bcc-300a-4c2e-8d12-1807cc46d1b1",
   "metadata": {},
   "source": [
    "-----"
   ]
  },
  {
   "cell_type": "markdown",
   "id": "374e81a4-7f47-4e45-9728-f770071c9c0b",
   "metadata": {},
   "source": [
    "## Target Variable Distribution"
   ]
  },
  {
   "cell_type": "code",
   "execution_count": 36,
   "id": "5f09e2c8-daf1-4449-9d0b-53ed6cc7a025",
   "metadata": {},
   "outputs": [
    {
     "name": "stdout",
     "output_type": "stream",
     "text": [
      "The average listing price for an AirBnb is ~ $146.0.\n"
     ]
    },
    {
     "data": {
      "text/plain": [
       "<Figure size 1152x720 with 0 Axes>"
      ]
     },
     "metadata": {},
     "output_type": "display_data"
    },
    {
     "data": {
      "image/png": "[encoded data removed]",
      "text/plain": [
       "<Figure size 360x360 with 1 Axes>"
      ]
     },
     "metadata": {},
     "output_type": "display_data"
    }
   ],
   "source": [
    "# Set figure size\n",
    "plt.figure(figsize=(16, 10))\n",
    "\n",
    "# Creating a distribution of the listing prices. \n",
    "# Using a log transformation to normalize the distribution.\n",
    "sns.displot(np.log(df_eda.price), bins=20)\n",
    "\n",
    "# Setting a vertical line to identify the average listing price. \n",
    "plt.axvline(np.log(df_eda.price.mean()), color='r')\n",
    "\n",
    "# Chart formatting\n",
    "plt.legend(['Mean'])\n",
    "plt.xlabel('log(Prices (USD))')\n",
    "plt.ylabel('Listing Count')\n",
    "plt.title('Listing Price Count')\n",
    "\n",
    "print(f'The average listing price for an AirBnb is ~ ${round(df_eda.price.mean(), 0)}.');"
   ]
  },
  {
   "cell_type": "markdown",
   "id": "b7d49950-da44-46db-8b48-84a9ec2ac321",
   "metadata": {},
   "source": [
    "----"
   ]
  },
  {
   "cell_type": "markdown",
   "id": "aa21149c-bf33-4a63-82ef-ce30da876590",
   "metadata": {},
   "source": [
    "## Feature deep dive\n",
    "Since the histogram needed a log transformation in order for the distribution to become normal, I want to investigate further how my listing prices are broken up. I will slice them into quarters, calculate the Interquartile Range (IQR), and calculate outliers by using the lower/upper limits of the IQR. After these calculations, I will run my histogram again to see how eliminating these outliers affected the distribution. "
   ]
  },
  {
   "cell_type": "code",
   "execution_count": 37,
   "id": "c93e46bf-186b-4858-bb2a-96f88791cd6d",
   "metadata": {},
   "outputs": [
    {
     "name": "stdout",
     "output_type": "stream",
     "text": [
      "The most expensive listing in the dataset is: $20000.0.\n",
      "The cheapest listing in the dataset is: $0.0.\n",
      "The average listing price is: $146.06.\n",
      "The standard deviation of listing price is: $330.35.\n"
     ]
    },
    {
     "data": {
      "image/png": "[encoded data removed]",
      "text/plain": [
       "<Figure size 1152x360 with 1 Axes>"
      ]
     },
     "metadata": {},
     "output_type": "display_data"
    }
   ],
   "source": [
    "# Set figure size\n",
    "plt.figure(figsize=(16, 5))\n",
    "\n",
    "# Creating a distribution of the listing prices. \n",
    "# Using a log transformation to normalize the distribution.\n",
    "sns.boxplot(df_eda.price)\n",
    "\n",
    "\n",
    "# Chart formatting\n",
    "plt.xlabel('Price (USD)')\n",
    "plt.title('Air Bnb Listing Price');\n",
    "\n",
    "# Descriptive statistics print statements\n",
    "print(f'The most expensive listing in the dataset is: ${round(df_eda.price.max(), 2)}.')\n",
    "print(f'The cheapest listing in the dataset is: ${(df_eda.price.min())}.')\n",
    "print(f'The average listing price is: ${round(df_eda.price.mean(), 2)}.') \n",
    "print(f'The standard deviation of listing price is: ${round(df_eda.price.std(), 2)}.')"
   ]
  },
  {
   "cell_type": "markdown",
   "id": "c0ecb7d2-31df-4feb-878f-f17633bd82e9",
   "metadata": {},
   "source": [
    "### Price Interpretation:\n",
    "I used a log transformation to normalize the distribution of not only price but also for bedrooms and bathrooms. I don't see any negative or zeroes in our listing price count which is one less item on our list to be concerned with during our EDA phase. According to the print statements, the range of listing price varies greatly from most expensive to cheapest with the average listing price being around 146.06 USD. I will definitely need to address outliers as mentioned previously and get rid of listings with a zero dollar price tag as this won't be helpful in price prediction if there is no such price to predict. "
   ]
  },
  {
   "cell_type": "markdown",
   "id": "9e4a7ac8-9a07-4f37-92bc-50ce291cd1e8",
   "metadata": {},
   "source": [
    "## Bedrooms"
   ]
  },
  {
   "cell_type": "code",
   "execution_count": 38,
   "id": "742ab8c8-909f-4d4e-993a-405800837e02",
   "metadata": {},
   "outputs": [
    {
     "data": {
      "text/plain": [
       "<Figure size 1152x360 with 0 Axes>"
      ]
     },
     "metadata": {},
     "output_type": "display_data"
    },
    {
     "data": {
      "image/png": "[encoded data removed]",
      "text/plain": [
       "<Figure size 360x360 with 1 Axes>"
      ]
     },
     "metadata": {},
     "output_type": "display_data"
    }
   ],
   "source": [
    "# Set figure size\n",
    "plt.figure(figsize=(16, 5))\n",
    "\n",
    "# Creating a distribution of the bedroom count. \n",
    "sns.displot(np.log(df_eda.beds), bins=20)\n",
    "\n",
    "# Chart formatting\n",
    "plt.xlabel('Bedrooms')\n",
    "plt.ylabel('Listing Count')\n",
    "plt.title('Beds in Air BnB Listing');"
   ]
  },
  {
   "cell_type": "code",
   "execution_count": 39,
   "id": "83e9f164-bcbe-4be5-a702-84e56ebf2ccb",
   "metadata": {},
   "outputs": [
    {
     "name": "stdout",
     "output_type": "stream",
     "text": [
      "The listing with the most number of bedrooms is: 90.0.\n",
      "The listing with the least number of bedrooms is: 1.0.\n",
      "The average number of bedrooms per listing is: 1.74.\n"
     ]
    },
    {
     "data": {
      "image/png": "[encoded data removed]",
      "text/plain": [
       "<Figure size 720x360 with 1 Axes>"
      ]
     },
     "metadata": {},
     "output_type": "display_data"
    }
   ],
   "source": [
    "# Set figure size\n",
    "plt.figure(figsize=(10, 5))\n",
    "\n",
    "sns.boxplot(df_eda.beds)\n",
    "\n",
    "# Chart formatting\n",
    "plt.xlabel('Bedrooms')\n",
    "plt.title('Beds in Air BnB')\n",
    "\n",
    "# Descriptive statistics print statements\n",
    "print(f'The listing with the most number of bedrooms is: {df_eda.beds.max()}.')\n",
    "print(f'The listing with the least number of bedrooms is: {df_eda.beds.min()}.')\n",
    "print(f'The average number of bedrooms per listing is: {round(df_eda.beds.mean(), 2)}.');"
   ]
  },
  {
   "cell_type": "markdown",
   "id": "589c978f-5f64-45bd-ae81-e0937873f2bf",
   "metadata": {},
   "source": [
    "### Bedrooms interpretation: \n",
    "The distribution is right skewed and the boxplot indicates several outliers. The largest count of bedrooms for a listing is 90 and the average being around 2 bedrooms. "
   ]
  },
  {
   "cell_type": "markdown",
   "id": "3ed8e62a-bb68-44e6-9c15-d73d93d9ea35",
   "metadata": {},
   "source": [
    "## Bathrooms"
   ]
  },
  {
   "cell_type": "code",
   "execution_count": 40,
   "id": "f567cf46-b6c6-4677-b026-f1e10a27253e",
   "metadata": {},
   "outputs": [
    {
     "data": {
      "text/plain": [
       "<Figure size 1152x360 with 0 Axes>"
      ]
     },
     "metadata": {},
     "output_type": "display_data"
    },
    {
     "data": {
      "image/png": "[encoded data removed]",
      "text/plain": [
       "<Figure size 360x360 with 1 Axes>"
      ]
     },
     "metadata": {},
     "output_type": "display_data"
    }
   ],
   "source": [
    "# Set figure size\n",
    "plt.figure(figsize=(16, 5))\n",
    "\n",
    "# Creating a distribution of the bathroom count. \n",
    "sns.displot(np.log(df_eda.baths), bins=20)\n",
    "\n",
    "# Chart formatting\n",
    "plt.xlabel('Bathrooms')\n",
    "plt.ylabel('Listing Count')\n",
    "plt.title('Bathrooms in Air BnB Listing');"
   ]
  },
  {
   "cell_type": "code",
   "execution_count": 41,
   "id": "361f7fd3-0069-4947-835b-829b7a52dd79",
   "metadata": {},
   "outputs": [
    {
     "name": "stdout",
     "output_type": "stream",
     "text": [
      "The listing with the most number of bathrooms is: 50.0.\n",
      "The listing with the least number of bathrooms is: 1.0.\n",
      "The average number of bathrooms per listing is: 1.25.\n"
     ]
    },
    {
     "data": {
      "image/png": "[encoded data removed]",
      "text/plain": [
       "<Figure size 720x360 with 1 Axes>"
      ]
     },
     "metadata": {},
     "output_type": "display_data"
    }
   ],
   "source": [
    "# Set figure size\n",
    "plt.figure(figsize=(10, 5))\n",
    "\n",
    "sns.boxplot(df_eda.baths)\n",
    "\n",
    "# Chart formatting\n",
    "plt.xlabel('Bathrooms')\n",
    "plt.title('Bathroms in Air BnB Listing')\n",
    "\n",
    "# Descriptive statistics print statements\n",
    "print(f'The listing with the most number of bathrooms is: {df_eda.baths.max()}.')\n",
    "print(f'The listing with the least number of bathrooms is: {df_eda.baths.min()}.')\n",
    "print(f'The average number of bathrooms per listing is: {round(df_eda.baths.mean(), 2)}.');"
   ]
  },
  {
   "cell_type": "markdown",
   "id": "69c4868c-29d8-4b81-84dc-0c8708cb12c0",
   "metadata": {},
   "source": [
    "### Bedrooms Interpretation: \n",
    "Again, the distribution is right skewed and the boxplot indicates several outliers with the largest bathroom count for a listing being 80 bathrooms. "
   ]
  },
  {
   "cell_type": "markdown",
   "id": "c0dcffcd-b9bc-4020-ba2d-6090f6154008",
   "metadata": {},
   "source": [
    "----"
   ]
  },
  {
   "cell_type": "markdown",
   "id": "0b8f097f-d3d1-4ce0-bd6c-8cf7d5d4a0a7",
   "metadata": {},
   "source": [
    "## IQR Feature Calculations: Price, Bed, Baths"
   ]
  },
  {
   "cell_type": "markdown",
   "id": "e8212cbf-6e5d-4e4d-88dd-633b470af643",
   "metadata": {},
   "source": [
    "### Price"
   ]
  },
  {
   "cell_type": "code",
   "execution_count": 42,
   "id": "181658d4-a436-466d-bafb-3d2109730b90",
   "metadata": {},
   "outputs": [
    {
     "name": "stdout",
     "output_type": "stream",
     "text": [
      "The 25th percentile of listing price is $55.0.\n",
      "The 50th percentile of listing price is $90.0.\n",
      "The 75th percentile of listing price is $150.0.\n"
     ]
    }
   ],
   "source": [
    "# The following four cells are derived from \n",
    "# code in article on https://www.geeksforgeeks.org/interquartile-range-to-detect-outliers-in-data/?ref=rp\n",
    "\n",
    "Q1 = np.percentile(df_eda.price, 25, interpolation = 'midpoint') \n",
    "Q2 = np.percentile(df_eda.price, 50, interpolation = 'midpoint') \n",
    "Q3 = np.percentile(df_eda.price, 75, interpolation = 'midpoint') \n",
    "  \n",
    "print(f'The 25th percentile of listing price is ${Q1}.')\n",
    "print(f'The 50th percentile of listing price is ${Q2}.')\n",
    "print(f'The 75th percentile of listing price is ${Q3}.')"
   ]
  },
  {
   "cell_type": "code",
   "execution_count": 43,
   "id": "3bd96832-6809-4347-adac-eeded695eacc",
   "metadata": {},
   "outputs": [
    {
     "name": "stdout",
     "output_type": "stream",
     "text": [
      "The IQR of listing price is $95.0.\n"
     ]
    }
   ],
   "source": [
    "IQR = stats.iqr(df_eda.price, interpolation = 'midpoint')\n",
    "\n",
    "print(f'The IQR of listing price is ${IQR}.')"
   ]
  },
  {
   "cell_type": "code",
   "execution_count": 44,
   "id": "ac3e9d1f-5877-4065-9690-195ac530b88a",
   "metadata": {},
   "outputs": [
    {
     "name": "stdout",
     "output_type": "stream",
     "text": [
      "The lower limit of listing price values are: $-87.5.\n",
      "The upper limit of listing price values are: $292.5.\n"
     ]
    }
   ],
   "source": [
    "lower = Q1 - 1.5 * IQR\n",
    "upper = Q3 + 1.5 * IQR\n",
    "\n",
    "print(f'The lower limit of listing price values are: ${lower}.')\n",
    "print(f'The upper limit of listing price values are: ${upper}.')"
   ]
  },
  {
   "cell_type": "code",
   "execution_count": 45,
   "id": "267ce649-77e6-420d-836e-6339747d5bef",
   "metadata": {},
   "outputs": [],
   "source": [
    "# Getting rid of outliers for a more balanced price distribution\n",
    "df_eda = df_eda[df_eda['price'] >= 0.0]\n",
    "\n",
    "# Getting rid of outliers for a more balanced price distribution\n",
    "df_eda = df_eda[df_eda['price'] <= 292.50]"
   ]
  },
  {
   "cell_type": "code",
   "execution_count": 46,
   "id": "9a99468e-fdc9-4b95-a24a-2b394c9fc5af",
   "metadata": {},
   "outputs": [
    {
     "data": {
      "text/plain": [
       "<Figure size 1152x360 with 0 Axes>"
      ]
     },
     "metadata": {},
     "output_type": "display_data"
    },
    {
     "data": {
      "image/png": "[encoded data removed]",
      "text/plain": [
       "<Figure size 360x360 with 1 Axes>"
      ]
     },
     "metadata": {},
     "output_type": "display_data"
    }
   ],
   "source": [
    "# Set figure size\n",
    "plt.figure(figsize=(16, 5))\n",
    "\n",
    "# Creating a distribution of the listing prices. \n",
    "# Using a log transformation to normalize the distribution.\n",
    "sns.displot(df_eda.price, bins=30)\n",
    "\n",
    "# Setting a vertical line to identify the average listing price. \n",
    "plt.axvline(df_eda.price.mean(), color='r')\n",
    "\n",
    "# Chart formatting\n",
    "plt.legend(['Mean'])\n",
    "plt.xlabel('Prices (USD)')\n",
    "plt.ylabel('Listing Count')\n",
    "plt.title('Listing Price Count');"
   ]
  },
  {
   "cell_type": "code",
   "execution_count": 47,
   "id": "50ce5504-66b3-4670-8e27-a81454f902fd",
   "metadata": {},
   "outputs": [
    {
     "name": "stdout",
     "output_type": "stream",
     "text": [
      "The average listing price is: $96.87.\n",
      "The standard deviation of listing price is: $59.23.\n",
      "The IQR of listing price is: $95.0.\n"
     ]
    },
    {
     "data": {
      "image/png": "[encoded data removed]",
      "text/plain": [
       "<Figure size 1152x360 with 1 Axes>"
      ]
     },
     "metadata": {},
     "output_type": "display_data"
    }
   ],
   "source": [
    "# Set figure size\n",
    "plt.figure(figsize=(16, 5))\n",
    "\n",
    "# Creating a distribution of the listing prices. \n",
    "# Using a log transformation to normalize the distribution.\n",
    "sns.boxplot(df_eda.price)\n",
    "\n",
    "\n",
    "# Chart formatting\n",
    "plt.xlabel('Price (USD)')\n",
    "plt.title('Air Bnb Listing Price');\n",
    "\n",
    "# Descriptive statistics print statements\n",
    "print(f'The average listing price is: ${round(df_eda.price.mean(), 2)}.') \n",
    "print(f'The standard deviation of listing price is: ${round(df_eda.price.std(), 2)}.')\n",
    "print(f'The IQR of listing price is: ${IQR}.')"
   ]
  },
  {
   "cell_type": "markdown",
   "id": "00f25214-a7b3-40e1-acc2-ffb64bdba7a6",
   "metadata": {
    "tags": []
   },
   "source": [
    "### Outlier Interpretation: \n",
    "The distribution no longer needs to be log transformed which speaks to the effect of dropping those upper and lower limit values from my dataset. According to the calculations of the interquartile range, the outliers are values less than 0 USD and greater than 292.50 USD. In addition to the distribution being more readable, the boxplot figure gives us a much better window into the quartiles of our pricing feature."
   ]
  },
  {
   "cell_type": "markdown",
   "id": "40279866-ebae-4eed-9539-6de08ded99bf",
   "metadata": {},
   "source": [
    "----"
   ]
  },
  {
   "cell_type": "markdown",
   "id": "e4865eab-e658-4f1d-bfd0-252b190c5aed",
   "metadata": {},
   "source": [
    "## Beds"
   ]
  },
  {
   "cell_type": "code",
   "execution_count": 48,
   "id": "a0564e57-5e92-4d54-ba57-420dd77ec432",
   "metadata": {},
   "outputs": [
    {
     "name": "stdout",
     "output_type": "stream",
     "text": [
      "The 25th percentile of beds is 1.0.\n",
      "The 50th percentile of beds is 1.0.\n",
      "The 75th percentile of beds is 2.0.\n"
     ]
    }
   ],
   "source": [
    "# The following four cells are derived from \n",
    "# code in article on https://www.geeksforgeeks.org/interquartile-range-to-detect-outliers-in-data/?ref=rp\n",
    "\n",
    "Q1 = np.percentile(df_eda.beds, 25, interpolation = 'midpoint') \n",
    "Q2 = np.percentile(df_eda.beds, 50, interpolation = 'midpoint') \n",
    "Q3 = np.percentile(df_eda.beds, 75, interpolation = 'midpoint') \n",
    "  \n",
    "print(f'The 25th percentile of beds is {Q1}.')\n",
    "print(f'The 50th percentile of beds is {Q2}.')\n",
    "print(f'The 75th percentile of beds is {Q3}.')"
   ]
  },
  {
   "cell_type": "code",
   "execution_count": 49,
   "id": "6941cec6-b8ec-4ab2-aa81-2f553952b28f",
   "metadata": {},
   "outputs": [
    {
     "name": "stdout",
     "output_type": "stream",
     "text": [
      "The IQR of beds are 1.0.\n"
     ]
    }
   ],
   "source": [
    "IQR = stats.iqr(df_eda.beds, interpolation = 'midpoint')\n",
    "\n",
    "print(f'The IQR of beds are {IQR}.')"
   ]
  },
  {
   "cell_type": "code",
   "execution_count": 50,
   "id": "43d4b645-68b1-4d57-b02c-a0ae535add2b",
   "metadata": {},
   "outputs": [
    {
     "name": "stdout",
     "output_type": "stream",
     "text": [
      "The lower limit of beds is: -0.5.\n",
      "The upper limit of beds is: 3.5.\n"
     ]
    }
   ],
   "source": [
    "lower = Q1 - 1.5 * IQR\n",
    "upper = Q3 + 1.5 * IQR\n",
    "\n",
    "print(f'The lower limit of beds is: {lower}.')\n",
    "print(f'The upper limit of beds is: {upper}.')"
   ]
  },
  {
   "cell_type": "code",
   "execution_count": 51,
   "id": "c8067600-3d75-431e-932b-315cb281979b",
   "metadata": {},
   "outputs": [],
   "source": [
    "# Getting rid of outliers for a more balanced price distribution\n",
    "df_eda = df_eda[df_eda['beds'] >= 0.0]"
   ]
  },
  {
   "cell_type": "code",
   "execution_count": 52,
   "id": "b6c8e502-69db-4479-9c1c-c5aa0b09aad2",
   "metadata": {},
   "outputs": [],
   "source": [
    "# Getting rid of outliers for a more balanced price distribution\n",
    "df_eda = df_eda[df_eda['beds'] <= 3.5]"
   ]
  },
  {
   "cell_type": "code",
   "execution_count": 53,
   "id": "a8deac67-c06d-4301-b354-cc1dc1550252",
   "metadata": {},
   "outputs": [
    {
     "data": {
      "text/plain": [
       "<Figure size 1152x360 with 0 Axes>"
      ]
     },
     "metadata": {},
     "output_type": "display_data"
    },
    {
     "data": {
      "image/png": "[encoded data removed]",
      "text/plain": [
       "<Figure size 360x360 with 1 Axes>"
      ]
     },
     "metadata": {},
     "output_type": "display_data"
    }
   ],
   "source": [
    "# Set figure size\n",
    "plt.figure(figsize=(16, 5))\n",
    "\n",
    "# Creating a distribution of the bedroom count. \n",
    "sns.displot(df_eda.beds, bins=20)\n",
    "\n",
    "# Chart formatting\n",
    "plt.xlabel('Bedrooms')\n",
    "plt.ylabel('Listing Count')\n",
    "plt.title('Beds in Air BnB Listing');"
   ]
  },
  {
   "cell_type": "code",
   "execution_count": 54,
   "id": "0247e902-80b3-4e17-aa87-d7abf3ba4d49",
   "metadata": {},
   "outputs": [
    {
     "name": "stdout",
     "output_type": "stream",
     "text": [
      "The listing with the most number of bedrooms is: 3.0.\n",
      "The listing with the least number of bedrooms is: 1.0.\n",
      "The average number of bedrooms per listing is: 1.45.\n"
     ]
    },
    {
     "data": {
      "image/png": "[encoded data removed]",
      "text/plain": [
       "<Figure size 720x360 with 1 Axes>"
      ]
     },
     "metadata": {},
     "output_type": "display_data"
    }
   ],
   "source": [
    "# Set figure size\n",
    "plt.figure(figsize=(10, 5))\n",
    "\n",
    "sns.boxplot(df_eda.beds)\n",
    "\n",
    "# Chart formatting\n",
    "plt.xlabel('Bedrooms')\n",
    "plt.title('Beds in Air BnB')\n",
    "\n",
    "# Descriptive statistics print statements\n",
    "print(f'The listing with the most number of bedrooms is: {df_eda.beds.max()}.')\n",
    "print(f'The listing with the least number of bedrooms is: {df_eda.beds.min()}.')\n",
    "print(f'The average number of bedrooms per listing is: {round(df_eda.beds.mean(), 2)}.');"
   ]
  },
  {
   "cell_type": "markdown",
   "id": "adf0df48-76c9-409d-80c5-f234d803b28b",
   "metadata": {},
   "source": [
    "### Outlier interpretation:\n",
    "The distribution and boxplot are still right skewed but the charts give us a clearer picture of bedroom counts for our listings. The maximum and minimum bedroom count are now at a more reasonable number - down from 90 bedrooms and 0 bedrooms. Again, this step is to ensure our model is getting as accurate an idea of how the features are comprised.  "
   ]
  },
  {
   "cell_type": "markdown",
   "id": "3327b910-01d6-45f2-b0a6-b5b2b2df2081",
   "metadata": {},
   "source": [
    "----"
   ]
  },
  {
   "cell_type": "markdown",
   "id": "a985058b-427c-4455-b931-8c09d3c0a7e0",
   "metadata": {},
   "source": [
    "## Baths"
   ]
  },
  {
   "cell_type": "code",
   "execution_count": 55,
   "id": "bd18de8e-d055-4beb-a32f-ef6f8bac67d8",
   "metadata": {},
   "outputs": [
    {
     "name": "stdout",
     "output_type": "stream",
     "text": [
      "The 25th percentile of bathrooms are 1.0.\n",
      "The 50th percentile of bathrooms are 1.0.\n",
      "The 75th percentile of bathrooms are 1.0.\n"
     ]
    }
   ],
   "source": [
    "# The following four cells are derived from \n",
    "# code in article on https://www.geeksforgeeks.org/interquartile-range-to-detect-outliers-in-data/?ref=rp\n",
    "\n",
    "Q1 = np.percentile(df_eda.baths, 25, interpolation = 'midpoint') \n",
    "Q2 = np.percentile(df_eda.baths, 50, interpolation = 'midpoint') \n",
    "Q3 = np.percentile(df_eda.baths, 75, interpolation = 'midpoint') \n",
    "  \n",
    "print(f'The 25th percentile of bathrooms are {Q1}.')\n",
    "print(f'The 50th percentile of bathrooms are {Q2}.')\n",
    "print(f'The 75th percentile of bathrooms are {Q3}.')"
   ]
  },
  {
   "cell_type": "code",
   "execution_count": 56,
   "id": "6aedcca1-b545-4116-8505-b2c399083044",
   "metadata": {},
   "outputs": [
    {
     "name": "stdout",
     "output_type": "stream",
     "text": [
      "The IQR of bathrooms are 0.0.\n"
     ]
    }
   ],
   "source": [
    "IQR = stats.iqr(df_eda.baths, interpolation = 'midpoint')\n",
    "\n",
    "print(f'The IQR of bathrooms are {IQR}.')"
   ]
  },
  {
   "cell_type": "code",
   "execution_count": 57,
   "id": "aa520277-46c5-41e9-b268-5f8fef8affa2",
   "metadata": {},
   "outputs": [
    {
     "name": "stdout",
     "output_type": "stream",
     "text": [
      "The lower limit of bathrooms are: 1.0.\n",
      "The upper limit of bathrooms are: 1.0.\n"
     ]
    }
   ],
   "source": [
    "lower = Q1 - 1.5 * IQR\n",
    "upper = Q3 + 1.5 * IQR\n",
    "\n",
    "print(f'The lower limit of bathrooms are: {lower}.')\n",
    "print(f'The upper limit of bathrooms are: {upper}.')"
   ]
  },
  {
   "cell_type": "code",
   "execution_count": 58,
   "id": "bf3ee6bf-85df-4408-9ebc-bd84cd15089f",
   "metadata": {},
   "outputs": [],
   "source": [
    "# Getting rid of outliers for a more balanced distribution\n",
    "df_eda = df_eda[df_eda['baths'] >= 0.0]"
   ]
  },
  {
   "cell_type": "code",
   "execution_count": 59,
   "id": "0ef9c8a8-c38d-49e0-91c1-8025a4893bda",
   "metadata": {},
   "outputs": [],
   "source": [
    "# Getting rid of outliers for a more balanced price distribution\n",
    "# Since the upper and lower limit are the same, I am chosing to use about three standard deviations to take away outliers \n",
    "# because statistically speaking three standard deviations equates to about 99.7% of the data in our bathrooms distribution.\n",
    "df_eda = df_eda[df_eda['baths'] <= 2]"
   ]
  },
  {
   "cell_type": "code",
   "execution_count": 60,
   "id": "fac31869-2b49-4dba-af4a-60e379146940",
   "metadata": {},
   "outputs": [
    {
     "data": {
      "text/plain": [
       "<Figure size 1152x360 with 0 Axes>"
      ]
     },
     "metadata": {},
     "output_type": "display_data"
    },
    {
     "data": {
      "image/png": "[encoded data removed]",
      "text/plain": [
       "<Figure size 360x360 with 1 Axes>"
      ]
     },
     "metadata": {},
     "output_type": "display_data"
    }
   ],
   "source": [
    "# Set figure size\n",
    "plt.figure(figsize=(16, 5))\n",
    "\n",
    "# Creating a distribution of the bathroom count after outlier elimination \n",
    "sns.displot(df_eda.baths, bins=20)\n",
    "\n",
    "# Chart formatting\n",
    "plt.xlabel('Bathrooms')\n",
    "plt.ylabel('Listing Count')\n",
    "plt.title('Bathrooms in Air BnB Listing');"
   ]
  },
  {
   "cell_type": "code",
   "execution_count": 61,
   "id": "6fedf61b-8216-45dd-b91e-cd8011510edb",
   "metadata": {},
   "outputs": [
    {
     "name": "stdout",
     "output_type": "stream",
     "text": [
      "The listing with the most number of bathrooms is: 2.0.\n",
      "The listing with the least number of bathrooms is: 1.0.\n",
      "The average number of bathrooms per listing is: 1.12.\n"
     ]
    },
    {
     "data": {
      "image/png": "[encoded data removed]",
      "text/plain": [
       "<Figure size 720x360 with 1 Axes>"
      ]
     },
     "metadata": {},
     "output_type": "display_data"
    }
   ],
   "source": [
    "# Set figure size\n",
    "plt.figure(figsize=(10, 5))\n",
    "\n",
    "sns.boxplot(df_eda.baths)\n",
    "\n",
    "# Chart formatting\n",
    "plt.xlabel('Bathrooms')\n",
    "plt.title('Bathroms in Air BnB Listing')\n",
    "\n",
    "# Descriptive statistics print statements\n",
    "print(f'The listing with the most number of bathrooms is: {df_eda.baths.max()}.')\n",
    "print(f'The listing with the least number of bathrooms is: {df_eda.baths.min()}.')\n",
    "print(f'The average number of bathrooms per listing is: {round(df_eda.baths.mean(), 2)}.');"
   ]
  },
  {
   "cell_type": "markdown",
   "id": "0f45a1fe-5565-41a3-b2a9-bfa79246056c",
   "metadata": {},
   "source": [
    "### Outlier interpretation: \n",
    "For the bathroom calculations, I took a different approach when dropping values from the upper limit. Since the upper and lower limit were both 1, I decided on using standard deviation as a guide when finding what value to set as my upper limit. 99.7% of our distribution exists within three standard deviations; as a result, I calculated three standard deviations from the mean and arrived at 2 bathrooms as my upper limit."
   ]
  },
  {
   "cell_type": "markdown",
   "id": "7f61c22a-a2c6-4807-8e88-861d4f2a967f",
   "metadata": {},
   "source": [
    "-----"
   ]
  },
  {
   "cell_type": "markdown",
   "id": "60671b85-0c31-4ffd-8ce0-8c00d023588a",
   "metadata": {},
   "source": [
    "## Review Null Values"
   ]
  },
  {
   "cell_type": "code",
   "execution_count": 79,
   "id": "595be79a-b0e8-406e-b99e-020753128cb1",
   "metadata": {},
   "outputs": [],
   "source": [
    "# Creating a function to impute mean into null values of review feature\n",
    "def null_impute(df, col):\n",
    "\n",
    "    mean = df[col].mean()\n",
    "    df = df[col].fillna(mean, inplace=True)\n",
    "\n",
    "    return df"
   ]
  },
  {
   "cell_type": "code",
   "execution_count": 82,
   "id": "6dc5bd57-ebce-4410-835f-f36c5c9d9698",
   "metadata": {},
   "outputs": [],
   "source": [
    "null_impute(df_eda, 'review_scores_rating')\n",
    "null_impute(df_eda, 'review_scores_accuracy')\n",
    "null_impute(df_eda, 'review_scores_cleanliness')\n",
    "null_impute(df_eda, 'review_scores_checkin')\n",
    "null_impute(df_eda, 'review_scores_communication')\n",
    "null_impute(df_eda, 'review_scores_location')\n",
    "null_impute(df_eda, 'review_scores_value')"
   ]
  },
  {
   "cell_type": "code",
   "execution_count": 83,
   "id": "c411c0fd-462e-4760-a3c9-dcddc935e1c9",
   "metadata": {},
   "outputs": [
    {
     "data": {
      "text/plain": [
       "city                                            0\n",
       "host_id                                         0\n",
       "superhost                                       0\n",
       "neighborhood                                    0\n",
       "latitude                                        0\n",
       "longitude                                       0\n",
       "property_type                                   0\n",
       "room_type                                       0\n",
       "accommodates                                    0\n",
       "baths                                           0\n",
       "beds                                            0\n",
       "amenities                                       0\n",
       "price                                           0\n",
       "minimum_nights                                  0\n",
       "maximum_nights                                  0\n",
       "minimum_minimum_nights                          0\n",
       "maximum_minimum_nights                          0\n",
       "minimum_maximum_nights                          0\n",
       "maximum_maximum_nights                          0\n",
       "minimum_nights_avg_ntm                          0\n",
       "maximum_nights_avg_ntm                          0\n",
       "has_availability                                0\n",
       "availability_30                                 0\n",
       "availability_60                                 0\n",
       "availability_90                                 0\n",
       "availability_365                                0\n",
       "review_scores_rating                            0\n",
       "review_scores_accuracy                          0\n",
       "review_scores_cleanliness                       0\n",
       "review_scores_checkin                           0\n",
       "review_scores_communication                     0\n",
       "review_scores_location                          0\n",
       "review_scores_value                             0\n",
       "calculated_host_listings_count                  0\n",
       "calculated_host_listings_count_entire_homes     0\n",
       "calculated_host_listings_count_private_rooms    0\n",
       "calculated_host_listings_count_shared_rooms     0\n",
       "dtype: int64"
      ]
     },
     "execution_count": 83,
     "metadata": {},
     "output_type": "execute_result"
    }
   ],
   "source": [
    "# Checking to ensure the \n",
    "df_eda.isnull().sum().sum()"
   ]
  },
  {
   "cell_type": "markdown",
   "id": "c18edd80-342e-40ae-a617-5e86c117db63",
   "metadata": {},
   "source": [
    "-----"
   ]
  },
  {
   "cell_type": "code",
   "execution_count": 62,
   "id": "78110102-092d-4459-801e-32b6d6bb6f4a",
   "metadata": {},
   "outputs": [
    {
     "data": {
      "text/plain": [
       "((354100, 37), (415512, 37))"
      ]
     },
     "execution_count": 62,
     "metadata": {},
     "output_type": "execute_result"
    }
   ],
   "source": [
    "# Getting an idea of Dataframe size after outlier drop. \n",
    "df_eda.shape, bnb.shape"
   ]
  },
  {
   "cell_type": "code",
   "execution_count": 63,
   "id": "96d956e4-e972-41c4-840e-4ae29148b77b",
   "metadata": {},
   "outputs": [
    {
     "data": {
      "text/html": [
       "<div>\n",
       "<style scoped>\n",
       "    .dataframe tbody tr th:only-of-type {\n",
       "        vertical-align: middle;\n",
       "    }\n",
       "\n",
       "    .dataframe tbody tr th {\n",
       "        vertical-align: top;\n",
       "    }\n",
       "\n",
       "    .dataframe thead th {\n",
       "        text-align: right;\n",
       "    }\n",
       "</style>\n",
       "<table border=\"1\" class=\"dataframe\">\n",
       "  <thead>\n",
       "    <tr style=\"text-align: right;\">\n",
       "      <th></th>\n",
       "      <th>price</th>\n",
       "    </tr>\n",
       "  </thead>\n",
       "  <tbody>\n",
       "    <tr>\n",
       "      <th>accommodates</th>\n",
       "      <td>0.499798</td>\n",
       "    </tr>\n",
       "    <tr>\n",
       "      <th>beds</th>\n",
       "      <td>0.402875</td>\n",
       "    </tr>\n",
       "    <tr>\n",
       "      <th>availability_365</th>\n",
       "      <td>0.217887</td>\n",
       "    </tr>\n",
       "    <tr>\n",
       "      <th>availability_90</th>\n",
       "      <td>0.175311</td>\n",
       "    </tr>\n",
       "    <tr>\n",
       "      <th>availability_60</th>\n",
       "      <td>0.163915</td>\n",
       "    </tr>\n",
       "    <tr>\n",
       "      <th>baths</th>\n",
       "      <td>0.158293</td>\n",
       "    </tr>\n",
       "    <tr>\n",
       "      <th>availability_30</th>\n",
       "      <td>0.149311</td>\n",
       "    </tr>\n",
       "    <tr>\n",
       "      <th>host_id</th>\n",
       "      <td>0.116724</td>\n",
       "    </tr>\n",
       "    <tr>\n",
       "      <th>calculated_host_listings_count_entire_homes</th>\n",
       "      <td>0.115908</td>\n",
       "    </tr>\n",
       "    <tr>\n",
       "      <th>review_scores_location</th>\n",
       "      <td>0.107824</td>\n",
       "    </tr>\n",
       "  </tbody>\n",
       "</table>\n",
       "</div>"
      ],
      "text/plain": [
       "                                                price\n",
       "accommodates                                 0.499798\n",
       "beds                                         0.402875\n",
       "availability_365                             0.217887\n",
       "availability_90                              0.175311\n",
       "availability_60                              0.163915\n",
       "baths                                        0.158293\n",
       "availability_30                              0.149311\n",
       "host_id                                      0.116724\n",
       "calculated_host_listings_count_entire_homes  0.115908\n",
       "review_scores_location                       0.107824"
      ]
     },
     "execution_count": 63,
     "metadata": {},
     "output_type": "execute_result"
    }
   ],
   "source": [
    "# Checking the correlation between features and the target variable, price \n",
    "# AFTER addressing the outliers\n",
    "features_corr = pd.DataFrame(df_eda.corr().loc['price'].sort_values(ascending=False))\n",
    "features_corr[1:11]"
   ]
  },
  {
   "cell_type": "markdown",
   "id": "4b009492-a534-42a2-b288-8d09e486e051",
   "metadata": {},
   "source": [
    "## Features Correlation Interpretation: \n",
    "After addressing outliers, all of our features doubled in correlation to the target variable. I feel the use of statistics in addressing outliers and seeing the result of improved correlation to be a highlight of this notebook. Furthermore, I feel my ability to use mathematics and not ancedote to guide the decisions I've made in this notebook are a testament to my overall understanding and progress.  "
   ]
  },
  {
   "cell_type": "markdown",
   "id": "b47570b1-f2ab-4615-9a53-4711c3beb33a",
   "metadata": {},
   "source": [
    "----"
   ]
  },
  {
   "cell_type": "markdown",
   "id": "e622c20d-f94c-488c-854d-4895af5c43f3",
   "metadata": {},
   "source": [
    "## Save Cleaned Data"
   ]
  },
  {
   "cell_type": "code",
   "execution_count": 64,
   "id": "f4c45bfb-a473-4312-b176-98c44dae7ced",
   "metadata": {},
   "outputs": [],
   "source": [
    "df_eda.to_csv('../data/clean_airbnb.csv')"
   ]
  }
 ],
 "metadata": {
  "kernelspec": {
   "display_name": "Python 3 (ipykernel)",
   "language": "python",
   "name": "python3"
  },
  "language_info": {
   "codemirror_mode": {
    "name": "ipython",
    "version": 3
   },
   "file_extension": ".py",
   "mimetype": "text/x-python",
   "name": "python",
   "nbconvert_exporter": "python",
   "pygments_lexer": "ipython3",
   "version": "3.9.7"
  }
 },
 "nbformat": 4,
 "nbformat_minor": 5
}
