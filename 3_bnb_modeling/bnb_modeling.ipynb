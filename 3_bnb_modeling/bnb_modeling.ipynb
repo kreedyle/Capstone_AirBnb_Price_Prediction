{
 "cells": [
  {
   "cell_type": "markdown",
   "id": "ba2f9b52-7441-4fb0-8026-5df01549d676",
   "metadata": {},
   "source": [
    "# Import libraries"
   ]
  },
  {
   "cell_type": "code",
   "execution_count": 2,
   "id": "8d3f9264-9c16-4b54-8377-dd406204bf6f",
   "metadata": {
    "tags": []
   },
   "outputs": [],
   "source": [
    "# The standards\n",
    "import pandas as pd\n",
    "import numpy as np\n",
    "import seaborn as sns\n",
    "import matplotlib.pyplot as plt\n",
    "import utils\n",
    "\n",
    "# Blue steel \n",
    "from sklearn.model_selection import train_test_split, cross_val_score, GridSearchCV\n",
    "from sklearn.linear_model import LinearRegression, LassoCV, RidgeCV, ElasticNet\n",
    "from sklearn.tree import DecisionTreeRegressor\n",
    "from sklearn.ensemble import RandomForestRegressor\n",
    "from xgboost import XGBRegressor\n",
    "from sklearn.preprocessing import StandardScaler, OneHotEncoder, PolynomialFeatures\n",
    "from sklearn import metrics\n",
    "from sklearn.metrics import r2_score, mean_squared_error\n",
    "from sklearn.pipeline import Pipeline\n",
    "from sklearn.dummy import DummyRegressor\n",
    "from sklearn.compose import ColumnTransformer\n",
    "from sklearn.metrics import mean_absolute_error\n",
    "\n",
    "# Ridding myself of those pesky warnings\n",
    "import warnings \n",
    "warnings.simplefilter(\"ignore\")"
   ]
  },
  {
   "cell_type": "markdown",
   "id": "72f7bda1-6f04-4d1d-b66e-8e4c8ae36684",
   "metadata": {},
   "source": [
    "# Read in the data"
   ]
  },
  {
   "cell_type": "code",
   "execution_count": 3,
   "id": "12c46508-1764-434d-8330-ac1a62aed0f3",
   "metadata": {
    "tags": []
   },
   "outputs": [],
   "source": [
    "# Reading in cleaned up data set and dropping some columns\n",
    "# During my first initial run of modeling using helper functions, I identified my train set to be \n",
    "# a shape of (247870, 216409). As a result, I am omitting these columns to help model performance. \n",
    "df = pd.read_csv('../data/clean_airbnb.csv').drop(columns=['Unnamed: 0',\n",
    "                                                           'amenities', \n",
    "                                                           'property_type'\n",
    "                                                          ])"
   ]
  },
  {
   "cell_type": "code",
   "execution_count": 4,
   "id": "c6850a4e-9cea-47ba-9da4-0440a09a0e5d",
   "metadata": {},
   "outputs": [
    {
     "data": {
      "text/plain": [
       "(354100, 35)"
      ]
     },
     "execution_count": 4,
     "metadata": {},
     "output_type": "execute_result"
    }
   ],
   "source": [
    "df.shape"
   ]
  },
  {
   "cell_type": "markdown",
   "id": "d0d1a4b9-185c-4d61-bdb3-6c8ae204e840",
   "metadata": {},
   "source": [
    "## Map city feature for modeling"
   ]
  },
  {
   "cell_type": "code",
   "execution_count": 5,
   "id": "910bd381-a282-4778-99d1-776097a70d4a",
   "metadata": {},
   "outputs": [],
   "source": [
    "df['city'] = df['city'].map({'paris': 0, 'london': 1})"
   ]
  },
  {
   "cell_type": "markdown",
   "id": "dd561132-90d8-4391-b982-8bdd601a0307",
   "metadata": {},
   "source": [
    "----"
   ]
  },
  {
   "cell_type": "markdown",
   "id": "e707820a-4879-45f9-b534-48e1e5b4fed8",
   "metadata": {},
   "source": [
    "# Modeling"
   ]
  },
  {
   "cell_type": "markdown",
   "id": "0f456757-1883-48fd-bbb1-8bab5608077f",
   "metadata": {},
   "source": [
    "## Baseline model"
   ]
  },
  {
   "cell_type": "code",
   "execution_count": 6,
   "id": "e04eb2cf-9a5d-402a-bc18-a83baa6b7a93",
   "metadata": {},
   "outputs": [],
   "source": [
    "base = df._get_numeric_data()"
   ]
  },
  {
   "cell_type": "code",
   "execution_count": 7,
   "id": "796008dc-7ab4-43fb-a6bb-6e218e0228b0",
   "metadata": {
    "tags": []
   },
   "outputs": [],
   "source": [
    "# Train/Test/Split\n",
    "X = base.drop(columns='price')\n",
    "y = base['price']"
   ]
  },
  {
   "cell_type": "code",
   "execution_count": 8,
   "id": "71d0ce4a-6edb-4dcb-a360-6c076649302d",
   "metadata": {},
   "outputs": [],
   "source": [
    "X_train, X_test, y_train, y_test = train_test_split(X, y,\n",
    "                                                    random_state=9\n",
    "                                                   )"
   ]
  },
  {
   "cell_type": "markdown",
   "id": "9589da62-f8dd-46aa-8486-b66e17016597",
   "metadata": {},
   "source": [
    "## Instantiating baseline model"
   ]
  },
  {
   "cell_type": "code",
   "execution_count": 9,
   "id": "0640ac47-5a98-428d-9e22-c25017aa4f35",
   "metadata": {},
   "outputs": [],
   "source": [
    "dummy = DummyRegressor()"
   ]
  },
  {
   "cell_type": "code",
   "execution_count": 10,
   "id": "6f05d5f7-e9eb-4421-a6f4-73cf17eb360e",
   "metadata": {},
   "outputs": [],
   "source": [
    "ss = StandardScaler()\n",
    "Z_train_dummy = ss.fit_transform(X_train)\n",
    "Z_test_dummy = ss.transform(X_test)"
   ]
  },
  {
   "cell_type": "code",
   "execution_count": 11,
   "id": "c245952b-59d3-40c0-8d6f-4028f75735e7",
   "metadata": {},
   "outputs": [
    {
     "data": {
      "text/plain": [
       "-3.1239114356029776e-05"
      ]
     },
     "execution_count": 11,
     "metadata": {},
     "output_type": "execute_result"
    }
   ],
   "source": [
    "cross_val_score(dummy, Z_train_dummy, y_train, cv=5).mean()"
   ]
  },
  {
   "cell_type": "code",
   "execution_count": 12,
   "id": "8ea90634-0377-4d27-ab2d-1268b123a91d",
   "metadata": {},
   "outputs": [
    {
     "data": {
      "text/plain": [
       "DummyRegressor()"
      ]
     },
     "execution_count": 12,
     "metadata": {},
     "output_type": "execute_result"
    }
   ],
   "source": [
    "dummy.fit(Z_train_dummy, y_train)"
   ]
  },
  {
   "cell_type": "code",
   "execution_count": 13,
   "id": "4e34794c-2ba8-40c9-94db-9f69e2aace48",
   "metadata": {},
   "outputs": [
    {
     "data": {
      "text/plain": [
       "0.0"
      ]
     },
     "execution_count": 13,
     "metadata": {},
     "output_type": "execute_result"
    }
   ],
   "source": [
    "dummy.score(Z_train_dummy, y_train)"
   ]
  },
  {
   "cell_type": "code",
   "execution_count": 14,
   "id": "2365f2d6-b4d8-4e80-8d7f-f1c5222eae99",
   "metadata": {
    "tags": []
   },
   "outputs": [
    {
     "data": {
      "text/plain": [
       "-9.556611821892602e-07"
      ]
     },
     "execution_count": 14,
     "metadata": {},
     "output_type": "execute_result"
    }
   ],
   "source": [
    "dummy.score(Z_test_dummy, y_test)"
   ]
  },
  {
   "cell_type": "markdown",
   "id": "6e129d15-c66f-4c26-b6c5-76440bd9056d",
   "metadata": {},
   "source": [
    "# Train-Test-Split"
   ]
  },
  {
   "cell_type": "code",
   "execution_count": 7,
   "id": "a9d9b3ba-5e14-40fc-b716-58fbaec787e4",
   "metadata": {
    "tags": []
   },
   "outputs": [],
   "source": [
    "# Using the top ten most correlated features to begin with to see what preliminary score generates\n",
    "\n",
    "X = df.drop(columns='price')\n",
    "y = df['price']"
   ]
  },
  {
   "cell_type": "code",
   "execution_count": 8,
   "id": "9c0d0f57-704f-4e83-9401-5e86d83e8248",
   "metadata": {},
   "outputs": [],
   "source": [
    "# Good ole train, test, split\n",
    "X_train, X_test, y_train, y_test = train_test_split(X, y, \n",
    "                                                    random_state=9\n",
    "                                                   )"
   ]
  },
  {
   "cell_type": "markdown",
   "id": "b4c8583c-7c37-45f6-a8ea-0501506356a5",
   "metadata": {},
   "source": [
    "## Addressing Features"
   ]
  },
  {
   "cell_type": "code",
   "execution_count": 9,
   "id": "16a397b1-40e9-46f7-bfd8-d55270616083",
   "metadata": {},
   "outputs": [],
   "source": [
    "numeric = [col for col in df._get_numeric_data().columns if col not in ['price']]"
   ]
  },
  {
   "cell_type": "code",
   "execution_count": 10,
   "id": "48fc17c2-2445-4129-9723-179f65d43d60",
   "metadata": {},
   "outputs": [],
   "source": [
    "categorical = [col for col in df.columns if col not in numeric and col not in ['price']]"
   ]
  },
  {
   "cell_type": "code",
   "execution_count": 11,
   "id": "c5d75cfa-d69a-465c-9688-7319fbb4bff8",
   "metadata": {
    "tags": []
   },
   "outputs": [],
   "source": [
    "ctx = ColumnTransformer(\n",
    "    [('ss', StandardScaler(), numeric),\n",
    "     ('ohe', OneHotEncoder(handle_unknown='ignore'), categorical)\n",
    "    ])"
   ]
  },
  {
   "cell_type": "code",
   "execution_count": 12,
   "id": "6c4f8d05-5e76-4d9f-985e-28ce0b8a3b06",
   "metadata": {},
   "outputs": [],
   "source": [
    "# Standard Scaler to even out all our features since they are on varying units of measure\n",
    "Z_train = ctx.fit_transform(X_train)\n",
    "Z_test = ctx.transform(X_test)"
   ]
  },
  {
   "cell_type": "code",
   "execution_count": 13,
   "id": "090a4421-e722-461b-a98b-3ea0aac2242c",
   "metadata": {},
   "outputs": [
    {
     "data": {
      "text/plain": [
       "((265575, 89), (88525, 89))"
      ]
     },
     "execution_count": 13,
     "metadata": {},
     "output_type": "execute_result"
    }
   ],
   "source": [
    "# Due to a large train shape during the initial modeling run, I decided to call the shape\n",
    "# after removing certain features to see if the shape narrowed significantly. \n",
    "Z_train.shape, Z_test.shape"
   ]
  },
  {
   "cell_type": "markdown",
   "id": "2dc9a483-5d9a-488b-bd85-43a0747e5681",
   "metadata": {},
   "source": [
    "## Model Selection"
   ]
  },
  {
   "cell_type": "code",
   "execution_count": 52,
   "id": "50ef61fa-9279-46d0-818c-cf6b886a9ca2",
   "metadata": {},
   "outputs": [],
   "source": [
    "models = {\n",
    "    'linear_regression' : LinearRegression(),\n",
    "    'lasso' : LassoCV(), \n",
    "    'ridge' : RidgeCV(), \n",
    "    'elastic' : ElasticNet(), \n",
    "    'tree' : DecisionTreeRegressor(),\n",
    "    'regr' : RandomForestRegressor(),\n",
    "    'xgb' : XGBRegressor()\n",
    "}"
   ]
  },
  {
   "cell_type": "code",
   "execution_count": 49,
   "id": "bd2fa890-80e7-492d-a01b-1920b5b4d3e6",
   "metadata": {},
   "outputs": [],
   "source": [
    "## Thank you Joshua Lin for letting me use helper functions as inspiration ##\n",
    "def fit_predict(model, \n",
    "                Z_train, y_train, \n",
    "                Z_test, y_test):\n",
    "    \n",
    "   # Return a dictionary of model performance indicators.\n",
    "    \n",
    "    results = {}\n",
    "    \n",
    "    # Fit the model on the scaled, transformed training set\n",
    "    model.fit(Z_train, y_train)\n",
    "\n",
    "    # Train & test metrics\n",
    "    results['train_cross_val'] = cross_val_score(model, Z_train, y_train, cv=5).mean()\n",
    "    results['train_score'] = model.score(Z_train, y_train)\n",
    "    results['test_score'] = model.score(Z_test, y_test)\n",
    "    \n",
    "    return results\n",
    "\n",
    "def test_models(models, \n",
    "                Z_train, y_train, \n",
    "                Z_test, y_test):\n",
    "    \n",
    "    # Returns DataFrame of baseline results \n",
    "    # given a dictionary `models` of 'model_name' : sklearn model().\n",
    "    \n",
    "    results = {}\n",
    "    \n",
    "    # For loop to unpack dictionary of models, \n",
    "    # fit each model, then store model's performance into DataFrame\n",
    "    # ordering by test_score.\n",
    "    for name, model in models.items():\n",
    "        \n",
    "        results[name] = fit_predict(model, \n",
    "                                     Z_train, y_train, \n",
    "                                     Z_test, y_test)\n",
    "    return pd.DataFrame.from_dict(\n",
    "        results, \n",
    "        orient='index').sort_values(by='test_score', ascending=False)"
   ]
  },
  {
   "cell_type": "code",
   "execution_count": 21,
   "id": "db0677e8-5c68-4622-946b-2e241d4e4c3d",
   "metadata": {
    "tags": []
   },
   "outputs": [
    {
     "data": {
      "text/html": [
       "<div>\n",
       "<style scoped>\n",
       "    .dataframe tbody tr th:only-of-type {\n",
       "        vertical-align: middle;\n",
       "    }\n",
       "\n",
       "    .dataframe tbody tr th {\n",
       "        vertical-align: top;\n",
       "    }\n",
       "\n",
       "    .dataframe thead th {\n",
       "        text-align: right;\n",
       "    }\n",
       "</style>\n",
       "<table border=\"1\" class=\"dataframe\">\n",
       "  <thead>\n",
       "    <tr style=\"text-align: right;\">\n",
       "      <th></th>\n",
       "      <th>train_cross_val</th>\n",
       "      <th>train_score</th>\n",
       "      <th>test_score</th>\n",
       "    </tr>\n",
       "  </thead>\n",
       "  <tbody>\n",
       "    <tr>\n",
       "      <th>regr</th>\n",
       "      <td>0.777921</td>\n",
       "      <td>0.971439</td>\n",
       "      <td>0.804992</td>\n",
       "    </tr>\n",
       "    <tr>\n",
       "      <th>xgb</th>\n",
       "      <td>0.651578</td>\n",
       "      <td>0.682195</td>\n",
       "      <td>0.654923</td>\n",
       "    </tr>\n",
       "    <tr>\n",
       "      <th>tree</th>\n",
       "      <td>0.571264</td>\n",
       "      <td>0.999028</td>\n",
       "      <td>0.617717</td>\n",
       "    </tr>\n",
       "    <tr>\n",
       "      <th>ridge</th>\n",
       "      <td>0.501256</td>\n",
       "      <td>0.501696</td>\n",
       "      <td>0.499925</td>\n",
       "    </tr>\n",
       "    <tr>\n",
       "      <th>linear_regression</th>\n",
       "      <td>0.501249</td>\n",
       "      <td>0.501691</td>\n",
       "      <td>0.499919</td>\n",
       "    </tr>\n",
       "    <tr>\n",
       "      <th>lasso</th>\n",
       "      <td>0.499651</td>\n",
       "      <td>0.500056</td>\n",
       "      <td>0.498817</td>\n",
       "    </tr>\n",
       "    <tr>\n",
       "      <th>elastic</th>\n",
       "      <td>0.376468</td>\n",
       "      <td>0.376546</td>\n",
       "      <td>0.374950</td>\n",
       "    </tr>\n",
       "  </tbody>\n",
       "</table>\n",
       "</div>"
      ],
      "text/plain": [
       "                   train_cross_val  train_score  test_score\n",
       "regr                      0.777921     0.971439    0.804992\n",
       "xgb                       0.651578     0.682195    0.654923\n",
       "tree                      0.571264     0.999028    0.617717\n",
       "ridge                     0.501256     0.501696    0.499925\n",
       "linear_regression         0.501249     0.501691    0.499919\n",
       "lasso                     0.499651     0.500056    0.498817\n",
       "elastic                   0.376468     0.376546    0.374950"
      ]
     },
     "execution_count": 21,
     "metadata": {},
     "output_type": "execute_result"
    }
   ],
   "source": [
    "test_models(models, Z_train, y_train, Z_test, y_test)"
   ]
  },
  {
   "cell_type": "markdown",
   "id": "41d9695f-b7dd-4fbf-a936-5ac30e83edc0",
   "metadata": {},
   "source": [
    "## Initial Model Scoring Interpretation: \n",
    "Now we have moved onto the modeling stage and have some initial looks at how seven models performed. I picked a range of models from simple like linear regression to complex like XGBoost and RandomForestRegressor. The criteria I need for a model is high performing because I would like to give clients the best information both accurately and efficiently, able to interpret feature importance because my problem statement is based around what features affect the listing price, and least overfit since there are new listings being added constantly. When a model is overfit, this means the model does poorly on unseen data and can't be trusted to make accurate interpretations on new listings. Since I will be giving hosts insights on what affects the pricing of their Air Bnb, I want to avoid giving them inaccurate information as much as possible. \n",
    "\n",
    "As we can see from the DataFrame above, I have used cross validation and R2 score to measure the performance of the models I've selected with their default parameters. Cross validation is important this allows us to look at the training and testing sets from, k,  different perspectives to give us more confidence in the R2 score. Since one of the criteria for my final model is least overfit, we can look to the cross validation score to give us a peak into the model's performance on unseen data. Speaking on bias/variance tradeoff for a moment, models like ridge, linear regression, lasso, and elastic performed very well in terms of having low variance however all the models have high bias based off the low scoring metrics. Although all the raw values may be close to one another, they are clustered away from the target. \n",
    "\n",
    "Now looking at the top three performing models based off R2 test score, the best performing model based off raw values when looking across the baseline metrics of cross validation, train, and test R2 score is RandomForestRegressor. However, XGBRegressor comes in with immense precision having little more than 0.03 between cross validation, train, and test scores. Again though, XGBRegressor's metrics fall under a similar category as the aforementioned models having low variance but high bias. Although the decision tree model is able to explain almost 100% of its variance, when looking to new data, the model becomes overfit by 38%. \n",
    "\n",
    "The best scoring model out of the seven models ran was the RandomForestRegressor model with a train/test of .97/.80 which is substantially better than the baseline model scoring. In addition, the XGBRegressor model did well overall with a train/test of .68/.65. Although the random forest regressor train score is nearly 100%, the model is overfit because the testing score decreases by ~18% to .65. The goal in selecting the final model is weighing the bias/variance tradeoff and trying to find the best of both worlds to minimize the total error between the two measurements. \n",
    "\n",
    "During some research on XGBoost and RandomForestRegressor, one of the hyperparameters for these models is assigning regularization to the model more specifically ridge regularization. Since my problem statement is based around feature importance and both models are able to evaluate the feature importance, I will tune the hyperparameters of both XGBRegressor and RandomForestRegressor."
   ]
  },
  {
   "cell_type": "markdown",
   "id": "ad7a338a-2cd2-4364-9c4e-9312c9f31c56",
   "metadata": {},
   "source": [
    "-----"
   ]
  },
  {
   "cell_type": "markdown",
   "id": "647939fd-3ae0-49ec-9cb8-f6cdcca90d6a",
   "metadata": {},
   "source": [
    "## Model Optimization"
   ]
  },
  {
   "cell_type": "code",
   "execution_count": 43,
   "id": "8903227d-8c80-4220-85b9-520b97c37377",
   "metadata": {},
   "outputs": [
    {
     "data": {
      "text/plain": [
       "GridSearchCV(cv=5, estimator=RandomForestRegressor(),\n",
       "             param_grid={'max_depth': [1, 7, 13],\n",
       "                         'n_estimators': [300, 400, 500], 'random_state': [9]})"
      ]
     },
     "execution_count": 43,
     "metadata": {},
     "output_type": "execute_result"
    }
   ],
   "source": [
    "# Instantiate model\n",
    "regr = RandomForestRegressor()\n",
    "\n",
    "# Setting up parameters\n",
    "regr_params = {\n",
    "    'max_depth' : [1, 7, 13],\n",
    "    'n_estimators' : [300, 400, 500],\n",
    "    'random_state' : [9]\n",
    "}\n",
    "\n",
    "# Gridsearch for optimizing hyperparameters\n",
    "gs_regr = GridSearchCV(regr, param_grid=regr_params, cv=5)\n",
    "\n",
    "# Fit model\n",
    "gs_regr.fit(Z_train, y_train)"
   ]
  },
  {
   "cell_type": "code",
   "execution_count": 41,
   "id": "c61c8995-fc66-4f22-baae-5743adaf941b",
   "metadata": {},
   "outputs": [
    {
     "data": {
      "text/plain": [
       "GridSearchCV(cv=5,\n",
       "             estimator=XGBRegressor(base_score=None, booster=None,\n",
       "                                    callbacks=None, colsample_bylevel=None,\n",
       "                                    colsample_bynode=None,\n",
       "                                    colsample_bytree=None,\n",
       "                                    early_stopping_rounds=None,\n",
       "                                    enable_categorical=False, eval_metric=None,\n",
       "                                    gamma=None, gpu_id=None, grow_policy=None,\n",
       "                                    importance_type=None,\n",
       "                                    interaction_constraints=None,\n",
       "                                    learning_rate=None, max_bin=None,\n",
       "                                    max_cat...None, max_delta_step=None,\n",
       "                                    max_depth=None, max_leaves=None,\n",
       "                                    min_child_weight=None, missing=nan,\n",
       "                                    monotone_constraints=None, n_estimators=100,\n",
       "                                    n_jobs=None, num_parallel_tree=None,\n",
       "                                    predictor=None, random_state=None,\n",
       "                                    reg_alpha=None, reg_lambda=None, ...),\n",
       "             param_grid={'max_depth': [1, 7, 13],\n",
       "                         'n_estimators': [300, 400, 500], 'random_state': [9],\n",
       "                         'reg_alpha': [0.0, 0.01, 0.1, 1.0]})"
      ]
     },
     "execution_count": 41,
     "metadata": {},
     "output_type": "execute_result"
    }
   ],
   "source": [
    "# Instantiate model\n",
    "xgb = XGBRegressor()\n",
    "\n",
    "# Setting up parameters\n",
    "xgb_params = {\n",
    "    'max_depth' : [1, 7, 13],\n",
    "    'n_estimators' : [300, 400, 500],\n",
    "    'reg_alpha' : [0.0, 0.01, 0.1, 1.0],\n",
    "    'random_state' : [9]\n",
    "}\n",
    "\n",
    "# Gridsearch for optimizing hyperparameters\n",
    "gs_xgb = GridSearchCV(xgb, param_grid=xgb_params, cv=5)\n",
    "\n",
    "# Fit model\n",
    "gs_xgb.fit(Z_train, y_train)"
   ]
  },
  {
   "cell_type": "code",
   "execution_count": 14,
   "id": "9767cb56-5562-465f-8de3-f151049501cb",
   "metadata": {},
   "outputs": [
    {
     "data": {
      "text/plain": [
       "RandomForestRegressor(max_depth=13, n_estimators=500, random_state=9)"
      ]
     },
     "execution_count": 14,
     "metadata": {},
     "output_type": "execute_result"
    }
   ],
   "source": [
    "regr_opt = RandomForestRegressor(max_depth=13, n_estimators=500, random_state=9)\n",
    "regr_opt.fit(Z_train, y_train)"
   ]
  },
  {
   "cell_type": "code",
   "execution_count": 15,
   "id": "8456cdf9-70da-4418-8943-5a178c458ec7",
   "metadata": {},
   "outputs": [
    {
     "data": {
      "text/plain": [
       "XGBRegressor(alpha=1, base_score=0.5, booster='gbtree', callbacks=None,\n",
       "             colsample_bylevel=1, colsample_bynode=1, colsample_bytree=1,\n",
       "             early_stopping_rounds=None, enable_categorical=False,\n",
       "             eval_metric=None, gamma=0, gpu_id=-1, grow_policy='depthwise',\n",
       "             importance_type=None, interaction_constraints='',\n",
       "             learning_rate=0.300000012, max_bin=256, max_cat_to_onehot=4,\n",
       "             max_delta_step=0, max_depth=13, max_leaves=0, min_child_weight=1,\n",
       "             missing=nan, monotone_constraints='()', n_estimators=500, n_jobs=0,\n",
       "             num_parallel_tree=1, predictor='auto', random_state=9, reg_alpha=1, ...)"
      ]
     },
     "execution_count": 15,
     "metadata": {},
     "output_type": "execute_result"
    }
   ],
   "source": [
    "xgb_opt = XGBRegressor(max_depth=13, n_estimators=500, random_state=9, alpha=1)\n",
    "xgb_opt.fit(Z_train, y_train)"
   ]
  },
  {
   "cell_type": "markdown",
   "id": "57af3473-5e2f-4525-935d-cbbbfd9f8bbb",
   "metadata": {},
   "source": [
    "### Hyperparameters discussion: \n",
    "Since my experience around gridsearching hyper-parameters is limited, I read through the documentation and selected some hyperparameters which I could easily interpret myself. \n",
    "\n",
    "First, the max depth relates to how many levels or sample splits the model will perform before generating results. For XGBoost, the default is set as 6; therefore, I chose to begin at 1 split then move in iterations of the default value arriving at 1, 7, & 13. Although the RandomForestRegressor does not have a max depth and instead will run until 'all leaves are pure' according to the documentation, I wanted to use the same hyperparameters for my two top performing models to give as even a playing field as possible. \n",
    "\n",
    "Next, number of estimators is the number of trees or number of samples the model will aggregate with before giving a final answer. The anomaly between the two gridsearchs is the alpha hyperparameter I set in my XGBoost to make the model more conserative. Again, going back to the problem statement of feature importance, I wanted to try to incorporate regularization as much as possible in the modeling phase. \n",
    "\n",
    "Finally, the random state ensures the splits our model generates are can be reproduced, so Sckit-learn uses random permutations to generate the splits. "
   ]
  },
  {
   "cell_type": "markdown",
   "id": "2d049ba2-8b80-4d13-99d2-56e067108f65",
   "metadata": {},
   "source": [
    "-----"
   ]
  },
  {
   "cell_type": "markdown",
   "id": "5b686478-f7a2-4ffd-aecf-c677a68e52c1",
   "metadata": {},
   "source": [
    "### RandomForestRegressor Results: "
   ]
  },
  {
   "cell_type": "code",
   "execution_count": 71,
   "id": "ef3753b6-8d7e-4b42-99fa-f6b72d04e635",
   "metadata": {},
   "outputs": [
    {
     "data": {
      "text/plain": [
       "{'max_depth': 13, 'n_estimators': 500, 'random_state': 9}"
      ]
     },
     "execution_count": 71,
     "metadata": {},
     "output_type": "execute_result"
    }
   ],
   "source": [
    "gs_regr.best_params_"
   ]
  },
  {
   "cell_type": "markdown",
   "id": "daf25b66-3292-47b4-8bdf-9c9681b1c337",
   "metadata": {},
   "source": [
    "### XGBRegressor Results: "
   ]
  },
  {
   "cell_type": "code",
   "execution_count": 64,
   "id": "b3042b68-7c5d-4e2e-a9e9-e6d0948efd99",
   "metadata": {
    "tags": []
   },
   "outputs": [
    {
     "data": {
      "text/plain": [
       "{'max_depth': 13, 'n_estimators': 500, 'random_state': 9, 'reg_alpha': 1.0}"
      ]
     },
     "execution_count": 64,
     "metadata": {},
     "output_type": "execute_result"
    }
   ],
   "source": [
    "gs_xgb.best_params_"
   ]
  },
  {
   "cell_type": "markdown",
   "id": "5cbfd22b-59a9-41b5-8fd4-60c7f772539f",
   "metadata": {},
   "source": [
    "----"
   ]
  },
  {
   "cell_type": "markdown",
   "id": "85230a11-1ff2-49d8-bcad-cbd939e42654",
   "metadata": {},
   "source": [
    "### Bundling results into DataFrame"
   ]
  },
  {
   "cell_type": "code",
   "execution_count": 86,
   "id": "3d774ee4-846b-4c03-b092-bdbdbdf0553e",
   "metadata": {},
   "outputs": [],
   "source": [
    "top_models = {\n",
    "    'regr' : RandomForestRegressor(max_depth=13, n_estimators=500, random_state=9),\n",
    "    'xgb' : XGBRegressor(max_depth=13, n_estimators=500, reg_alpha=1, random_state=9)\n",
    "}"
   ]
  },
  {
   "cell_type": "code",
   "execution_count": 87,
   "id": "b922163a-b90e-403c-a646-d896a902fa25",
   "metadata": {},
   "outputs": [
    {
     "data": {
      "text/html": [
       "<div>\n",
       "<style scoped>\n",
       "    .dataframe tbody tr th:only-of-type {\n",
       "        vertical-align: middle;\n",
       "    }\n",
       "\n",
       "    .dataframe tbody tr th {\n",
       "        vertical-align: top;\n",
       "    }\n",
       "\n",
       "    .dataframe thead th {\n",
       "        text-align: right;\n",
       "    }\n",
       "</style>\n",
       "<table border=\"1\" class=\"dataframe\">\n",
       "  <thead>\n",
       "    <tr style=\"text-align: right;\">\n",
       "      <th></th>\n",
       "      <th>train_cross_val</th>\n",
       "      <th>train_score</th>\n",
       "      <th>test_score</th>\n",
       "    </tr>\n",
       "  </thead>\n",
       "  <tbody>\n",
       "    <tr>\n",
       "      <th>xgb</th>\n",
       "      <td>0.800774</td>\n",
       "      <td>0.995096</td>\n",
       "      <td>0.825650</td>\n",
       "    </tr>\n",
       "    <tr>\n",
       "      <th>regr</th>\n",
       "      <td>0.621917</td>\n",
       "      <td>0.669913</td>\n",
       "      <td>0.625128</td>\n",
       "    </tr>\n",
       "  </tbody>\n",
       "</table>\n",
       "</div>"
      ],
      "text/plain": [
       "      train_cross_val  train_score  test_score\n",
       "xgb          0.800774     0.995096    0.825650\n",
       "regr         0.621917     0.669913    0.625128"
      ]
     },
     "execution_count": 87,
     "metadata": {},
     "output_type": "execute_result"
    }
   ],
   "source": [
    "test_models(top_models, Z_train, y_train, Z_test, y_test)"
   ]
  },
  {
   "cell_type": "markdown",
   "id": "f59b471c-e2e5-43ef-82b9-06b83d748702",
   "metadata": {},
   "source": [
    "### XGBRegressor Scoring:\n",
    "After running the gridsearch, the hyper-parameters found the highest values to be the best params for this model which made the train/test score jump up by 45% and 26% respectively. Although the raw values went up, the model has become less precise thus higher variance but lower bias. This can happen due to the max depth which indicates how many different separate times the model splits into another level of decisions. As the model continues to split, this can lead to overfitting.  "
   ]
  },
  {
   "cell_type": "markdown",
   "id": "76c352c9-de71-463d-8c3c-4ee7105e6e22",
   "metadata": {
    "tags": []
   },
   "source": [
    "### RandomForestRegressor Scoring: \n",
    "The scoring of the models have become mirror images because the RandomForestRegressor now has become more precise but less accurate because the raw values of the train/test both decreased to nearly the same R2 score, or explained variance, as the XGBoost model before tuning the hyper-parameters through a GridSearchCV. This perhaps could be due to the max depth of the RandomForestRegressor not having a default depth. According to the documentation, 'nodes are expanded until all leaves are pure...' which I take to mean the model runs until all possible sample splits have occured.  "
   ]
  },
  {
   "cell_type": "markdown",
   "id": "14ec86d1-cf26-4abe-bd97-f26c9330af73",
   "metadata": {},
   "source": [
    "----"
   ]
  },
  {
   "cell_type": "markdown",
   "id": "596bec00-3879-4ea7-8e89-11d61b5a44a4",
   "metadata": {},
   "source": [
    "# Metrics of Top Performing Models: "
   ]
  },
  {
   "cell_type": "markdown",
   "id": "1c73ead6-cd62-4b27-9a51-e02b3383b430",
   "metadata": {},
   "source": [
    "## Residuals"
   ]
  },
  {
   "cell_type": "code",
   "execution_count": 16,
   "id": "36a4c8e5-7cb2-43ee-93b6-9fc6d93ca730",
   "metadata": {
    "tags": []
   },
   "outputs": [
    {
     "data": {
      "text/plain": [
       "array([117.33277558,  35.33984775, 126.74119381,  42.51426577,\n",
       "        96.30710751])"
      ]
     },
     "execution_count": 16,
     "metadata": {},
     "output_type": "execute_result"
    }
   ],
   "source": [
    "y_pred_regr = regr_opt.predict(Z_train)\n",
    "y_pred_regr[:5]"
   ]
  },
  {
   "cell_type": "code",
   "execution_count": 17,
   "id": "0729c1c5-c4b8-4416-ac09-277435940636",
   "metadata": {},
   "outputs": [],
   "source": [
    "residuals_regr = y_train - y_pred_regr"
   ]
  },
  {
   "cell_type": "code",
   "execution_count": 18,
   "id": "3225bd56-5959-4bd6-8679-8aaa7242e760",
   "metadata": {},
   "outputs": [
    {
     "data": {
      "text/plain": [
       "0.03370866500057211"
      ]
     },
     "execution_count": 18,
     "metadata": {},
     "output_type": "execute_result"
    }
   ],
   "source": [
    "residuals_regr.mean()"
   ]
  },
  {
   "cell_type": "code",
   "execution_count": 35,
   "id": "fc963111-2686-4227-a3ae-214842b0e937",
   "metadata": {},
   "outputs": [
    {
     "data": {
      "image/png": "[encoded data removed]",
      "text/plain": [
       "<Figure size 432x288 with 1 Axes>"
      ]
     },
     "metadata": {
      "needs_background": "light"
     },
     "output_type": "display_data"
    }
   ],
   "source": [
    "# Histogram of Model Residuals\n",
    "plt.hist(residuals_regr, bins=20)\n",
    "\n",
    "# Chart formatting\n",
    "plt.title('Random Forest Regressor Residual Distribution')\n",
    "plt.xlabel('Residual Values')\n",
    "plt.ylabel('Prediction Count');"
   ]
  },
  {
   "cell_type": "markdown",
   "id": "8020d75d-834e-4f76-8b9b-6d75eba2ed70",
   "metadata": {},
   "source": [
    "### RandomForestRegressor Residual Histogram Interpretation: \n",
    "The RandomForestRegressor histogram has a normalish distribution but is right skewed because of the long tail to the right of x=0. "
   ]
  },
  {
   "cell_type": "code",
   "execution_count": 34,
   "id": "fce2da16-5400-4091-b9ff-2fc6881d7cc9",
   "metadata": {
    "tags": []
   },
   "outputs": [
    {
     "data": {
      "image/png": "[encoded data removed]",
      "text/plain": [
       "<Figure size 432x288 with 1 Axes>"
      ]
     },
     "metadata": {
      "needs_background": "light"
     },
     "output_type": "display_data"
    }
   ],
   "source": [
    "# Scatter Plot of Model Residuals\n",
    "plt.scatter(y_pred_regr, residuals_regr, alpha=.1)\n",
    "\n",
    "# Chart formatting\n",
    "plt.axhline(0, color=\"red\", linestyle=\"--\")\n",
    "plt.title('Random Forest Regressor Residuals')\n",
    "plt.xlabel('Predicted Values')\n",
    "plt.ylabel('Residual Values');"
   ]
  },
  {
   "cell_type": "markdown",
   "id": "7a36c1a5-5a7c-44f6-b60a-532d927e96c1",
   "metadata": {},
   "source": [
    "### RandomForestRegressor Residual Scatterplot Interpretation: \n",
    "The scatterplot indicates a fanning out of the residual values from left to right and narrows sharply past x=200. Also, there are a few outliers above and below the horizontal band, but good concentration of residual values surrounding y=0. "
   ]
  },
  {
   "cell_type": "markdown",
   "id": "f008084e-1726-4a5f-a070-4710944c898f",
   "metadata": {},
   "source": [
    "## Mean Absolute Error (RandomForestRegressor)"
   ]
  },
  {
   "cell_type": "code",
   "execution_count": 21,
   "id": "8fe67d2c-f056-4a8f-8863-f3d40ef550f7",
   "metadata": {},
   "outputs": [
    {
     "name": "stdout",
     "output_type": "stream",
     "text": [
      "On average the RandomForestRegressor is able to predict the price of an AirBnb listing within $22.97.\n"
     ]
    }
   ],
   "source": [
    "# Calculating and rounding the mean absolute error \n",
    "regr_mae = round(mean_absolute_error(y_train, y_pred_regr), 2)\n",
    "\n",
    "print(f'On average the RandomForestRegressor is able to predict the price of an AirBnb listing within ${regr_mae}.')"
   ]
  },
  {
   "cell_type": "markdown",
   "id": "39c966cd-d20d-47cb-a5e9-b6f346cbf3f5",
   "metadata": {},
   "source": [
    "----"
   ]
  },
  {
   "cell_type": "code",
   "execution_count": 22,
   "id": "3fcf4732-5f1e-440c-9150-898a0cb02b18",
   "metadata": {},
   "outputs": [
    {
     "data": {
      "text/plain": [
       "array([ 90.22177 ,  30.27824 , 119.657555,  35.47804 ,  97.53174 ],\n",
       "      dtype=float32)"
      ]
     },
     "execution_count": 22,
     "metadata": {},
     "output_type": "execute_result"
    }
   ],
   "source": [
    "y_pred_xgb = xgb_opt.predict(Z_train)\n",
    "y_pred_xgb[:5]"
   ]
  },
  {
   "cell_type": "code",
   "execution_count": 23,
   "id": "4dcc0782-2456-46f1-875e-11d2345c3171",
   "metadata": {},
   "outputs": [],
   "source": [
    "residuals_xgb = y_train - y_pred_xgb"
   ]
  },
  {
   "cell_type": "code",
   "execution_count": 24,
   "id": "f4ad7abb-1544-4ecd-9053-930d494061c1",
   "metadata": {},
   "outputs": [
    {
     "data": {
      "text/plain": [
       "0.0005034137779874316"
      ]
     },
     "execution_count": 24,
     "metadata": {},
     "output_type": "execute_result"
    }
   ],
   "source": [
    "residuals_xgb.mean()"
   ]
  },
  {
   "cell_type": "code",
   "execution_count": 36,
   "id": "e6e0d0b6-ac11-4217-ade3-8ea7ec861572",
   "metadata": {},
   "outputs": [
    {
     "data": {
      "image/png": "[encoded data removed]",
      "text/plain": [
       "<Figure size 432x288 with 1 Axes>"
      ]
     },
     "metadata": {
      "needs_background": "light"
     },
     "output_type": "display_data"
    }
   ],
   "source": [
    "# Histogram of Model Residuals\n",
    "plt.hist(residuals_xgb, bins=20)\n",
    "\n",
    "# Chart formatting\n",
    "plt.title('XGB Regressor Residual Distribution')\n",
    "plt.xlabel('Residual Values')\n",
    "plt.ylabel('Prediction Count');"
   ]
  },
  {
   "cell_type": "markdown",
   "id": "06504a7c-1aea-4b2c-ba2c-01c0a3131fc6",
   "metadata": {
    "tags": []
   },
   "source": [
    "### XGBoost Residual Histogram: \n",
    "The histogram of XGBoost residuals are narrow and left skewed in the loosest terms because of the tail of values to the left of the mean."
   ]
  },
  {
   "cell_type": "code",
   "execution_count": 37,
   "id": "4d453e6c-70df-4259-86a5-d5c7fa0b3a66",
   "metadata": {
    "tags": []
   },
   "outputs": [
    {
     "data": {
      "image/png": "[encoded data removed]",
      "text/plain": [
       "<Figure size 432x288 with 1 Axes>"
      ]
     },
     "metadata": {
      "needs_background": "light"
     },
     "output_type": "display_data"
    }
   ],
   "source": [
    "# Scatter Plot of Model Residuals\n",
    "plt.scatter(y_pred_xgb, residuals_xgb, alpha=.1)\n",
    "\n",
    "# Chart formatting\n",
    "plt.axhline(0, color=\"red\", linestyle=\"--\")\n",
    "plt.title('XGB Regressor Residuals')\n",
    "plt.xlabel('Predicted Values')\n",
    "plt.ylabel('Residual Values');"
   ]
  },
  {
   "cell_type": "markdown",
   "id": "0a0faf42-e544-42c4-91ff-146103b5f9ee",
   "metadata": {},
   "source": [
    "### XGBoost Residual Scatterplot Interpretation: \n",
    "Although there is a heavy concentration around the horizontal band, we do see a couple outliers above and below y=0. There is an obvious diamond shape pattern which indicates the model does not perform well with the overall scope of the data.  "
   ]
  },
  {
   "cell_type": "markdown",
   "id": "35e7ccde-a5e9-4d94-8996-052ca475f641",
   "metadata": {
    "tags": []
   },
   "source": [
    "## Mean Absolute Error (XGBoost)"
   ]
  },
  {
   "cell_type": "code",
   "execution_count": 27,
   "id": "967b8668-a645-48c0-a712-23d0e033e048",
   "metadata": {},
   "outputs": [
    {
     "name": "stdout",
     "output_type": "stream",
     "text": [
      "On average the XGBRegressor is able to predict the price of an AirBnb listing within $2.24.\n"
     ]
    }
   ],
   "source": [
    "# Calculating and rounding the mean absolute error \n",
    "xgb_mae = round(mean_absolute_error(y_train, y_pred_xgb), 2)\n",
    "\n",
    "print(f'On average the XGBRegressor is able to predict the price of an AirBnb listing within ${xgb_mae}.')"
   ]
  },
  {
   "cell_type": "markdown",
   "id": "9d84ebd6-056e-4b31-96a0-c20920590153",
   "metadata": {},
   "source": [
    "-----"
   ]
  },
  {
   "cell_type": "markdown",
   "id": "f25bebc4-6a59-4717-a93a-7b3f4ba55901",
   "metadata": {
    "tags": []
   },
   "source": [
    "# Neighborhood Subset Modeling"
   ]
  },
  {
   "cell_type": "code",
   "execution_count": 39,
   "id": "02600b63-9fb9-4986-943d-e1aac229741e",
   "metadata": {},
   "outputs": [
    {
     "data": {
      "text/plain": [
       "Westminster    20490\n",
       "Name: neighborhood, dtype: int64"
      ]
     },
     "execution_count": 39,
     "metadata": {},
     "output_type": "execute_result"
    }
   ],
   "source": [
    "# Searching for the largest neighborhood\n",
    "df['neighborhood'].value_counts()[:1]"
   ]
  },
  {
   "cell_type": "code",
   "execution_count": 40,
   "id": "a50b9e58-7f8a-4b6b-bb58-5ef3903729a7",
   "metadata": {},
   "outputs": [],
   "source": [
    "# Creating a subset for the Westminster neighborhood\n",
    "west = df[df['neighborhood'] == 'Westminster']"
   ]
  },
  {
   "cell_type": "markdown",
   "id": "1242a332-73b8-4d79-9360-5aecb3a5f263",
   "metadata": {},
   "source": [
    "# Train-Test-Split"
   ]
  },
  {
   "cell_type": "code",
   "execution_count": 41,
   "id": "a7a4c465-a721-46f0-91e5-f784d5129b54",
   "metadata": {
    "tags": []
   },
   "outputs": [],
   "source": [
    "# Setting my features & target variable\n",
    "X = west.drop(columns='price')\n",
    "y = west['price']"
   ]
  },
  {
   "cell_type": "code",
   "execution_count": 42,
   "id": "c8b5cce7-38be-4723-82a4-99d16450614b",
   "metadata": {},
   "outputs": [],
   "source": [
    "# Good ole train, test, split\n",
    "X_train, X_test, y_train, y_test = train_test_split(X, y, \n",
    "                                                    random_state=9\n",
    "                                                   )"
   ]
  },
  {
   "cell_type": "markdown",
   "id": "368800b8-2303-42f4-a44f-b2a9977660c3",
   "metadata": {},
   "source": [
    "## Addressing Features"
   ]
  },
  {
   "cell_type": "code",
   "execution_count": 43,
   "id": "55a3267c-7c6b-4033-af8a-921bbd9eb24b",
   "metadata": {},
   "outputs": [],
   "source": [
    "# Pulling numeric values out for column transformer\n",
    "numeric = [col for col in west._get_numeric_data().columns if col not in ['price']]"
   ]
  },
  {
   "cell_type": "code",
   "execution_count": 44,
   "id": "7c9d0ddf-a156-4d17-9a35-7435b0eca368",
   "metadata": {},
   "outputs": [],
   "source": [
    "# Pulling categorical values out for column transformer\n",
    "categorical = [col for col in west.columns if col not in numeric and col not in ['price']]"
   ]
  },
  {
   "cell_type": "code",
   "execution_count": 45,
   "id": "cca92112-f845-4499-8f7e-de6ca2decb69",
   "metadata": {
    "tags": []
   },
   "outputs": [],
   "source": [
    "ctx = ColumnTransformer(\n",
    "    [('ss', StandardScaler(), numeric),\n",
    "     ('ohe', OneHotEncoder(handle_unknown='ignore'), categorical)\n",
    "    ])"
   ]
  },
  {
   "cell_type": "code",
   "execution_count": 46,
   "id": "430e7568-bc03-4a0d-87d4-a2333106be5d",
   "metadata": {},
   "outputs": [],
   "source": [
    "# Standard Scaler to even out all our features since they are on varying units of measure\n",
    "Z_train_west = ctx.fit_transform(X_train)\n",
    "Z_test_west = ctx.transform(X_test)"
   ]
  },
  {
   "cell_type": "code",
   "execution_count": 47,
   "id": "6f2c4dc6-aefd-4b99-89af-b3d39e8d42ae",
   "metadata": {},
   "outputs": [
    {
     "data": {
      "text/plain": [
       "((15367, 37), (5123, 37))"
      ]
     },
     "execution_count": 47,
     "metadata": {},
     "output_type": "execute_result"
    }
   ],
   "source": [
    "# Checking shapes\n",
    "Z_train_west.shape, Z_test_west.shape"
   ]
  },
  {
   "cell_type": "code",
   "execution_count": 53,
   "id": "0dc68f2a-cf1c-45eb-9090-4aed7c226d85",
   "metadata": {},
   "outputs": [
    {
     "data": {
      "text/html": [
       "<div>\n",
       "<style scoped>\n",
       "    .dataframe tbody tr th:only-of-type {\n",
       "        vertical-align: middle;\n",
       "    }\n",
       "\n",
       "    .dataframe tbody tr th {\n",
       "        vertical-align: top;\n",
       "    }\n",
       "\n",
       "    .dataframe thead th {\n",
       "        text-align: right;\n",
       "    }\n",
       "</style>\n",
       "<table border=\"1\" class=\"dataframe\">\n",
       "  <thead>\n",
       "    <tr style=\"text-align: right;\">\n",
       "      <th></th>\n",
       "      <th>train_cross_val</th>\n",
       "      <th>train_score</th>\n",
       "      <th>test_score</th>\n",
       "    </tr>\n",
       "  </thead>\n",
       "  <tbody>\n",
       "    <tr>\n",
       "      <th>regr</th>\n",
       "      <td>0.759394</td>\n",
       "      <td>0.968663</td>\n",
       "      <td>0.771650</td>\n",
       "    </tr>\n",
       "    <tr>\n",
       "      <th>xgb</th>\n",
       "      <td>0.727566</td>\n",
       "      <td>0.879834</td>\n",
       "      <td>0.730841</td>\n",
       "    </tr>\n",
       "    <tr>\n",
       "      <th>tree</th>\n",
       "      <td>0.533601</td>\n",
       "      <td>0.999134</td>\n",
       "      <td>0.560293</td>\n",
       "    </tr>\n",
       "    <tr>\n",
       "      <th>linear_regression</th>\n",
       "      <td>0.448255</td>\n",
       "      <td>0.450772</td>\n",
       "      <td>0.443445</td>\n",
       "    </tr>\n",
       "    <tr>\n",
       "      <th>lasso</th>\n",
       "      <td>0.447598</td>\n",
       "      <td>0.450100</td>\n",
       "      <td>0.443413</td>\n",
       "    </tr>\n",
       "    <tr>\n",
       "      <th>ridge</th>\n",
       "      <td>0.447956</td>\n",
       "      <td>0.450466</td>\n",
       "      <td>0.442891</td>\n",
       "    </tr>\n",
       "    <tr>\n",
       "      <th>elastic</th>\n",
       "      <td>0.390645</td>\n",
       "      <td>0.392157</td>\n",
       "      <td>0.391312</td>\n",
       "    </tr>\n",
       "  </tbody>\n",
       "</table>\n",
       "</div>"
      ],
      "text/plain": [
       "                   train_cross_val  train_score  test_score\n",
       "regr                      0.759394     0.968663    0.771650\n",
       "xgb                       0.727566     0.879834    0.730841\n",
       "tree                      0.533601     0.999134    0.560293\n",
       "linear_regression         0.448255     0.450772    0.443445\n",
       "lasso                     0.447598     0.450100    0.443413\n",
       "ridge                     0.447956     0.450466    0.442891\n",
       "elastic                   0.390645     0.392157    0.391312"
      ]
     },
     "execution_count": 53,
     "metadata": {},
     "output_type": "execute_result"
    }
   ],
   "source": [
    "test_models(models, Z_train_west, y_train, Z_test_west, y_test)"
   ]
  },
  {
   "cell_type": "markdown",
   "id": "b5033506-8bc2-4671-a4d2-6323351d9316",
   "metadata": {},
   "source": [
    "## Top Performing Models for Westminster Model: "
   ]
  },
  {
   "cell_type": "code",
   "execution_count": 54,
   "id": "317f615c-3cea-4806-99a2-7cdca885cbce",
   "metadata": {},
   "outputs": [],
   "source": [
    "west_models = {\n",
    "    'regr_west' : RandomForestRegressor(max_depth=13, n_estimators=500, random_state=9),\n",
    "    'xgb_west' : XGBRegressor(max_depth=13, n_estimators=500, reg_alpha=1, random_state=9)\n",
    "}"
   ]
  },
  {
   "cell_type": "code",
   "execution_count": 55,
   "id": "fbda2134-fa69-4158-8118-9c7b9f0030bd",
   "metadata": {},
   "outputs": [
    {
     "data": {
      "text/html": [
       "<div>\n",
       "<style scoped>\n",
       "    .dataframe tbody tr th:only-of-type {\n",
       "        vertical-align: middle;\n",
       "    }\n",
       "\n",
       "    .dataframe tbody tr th {\n",
       "        vertical-align: top;\n",
       "    }\n",
       "\n",
       "    .dataframe thead th {\n",
       "        text-align: right;\n",
       "    }\n",
       "</style>\n",
       "<table border=\"1\" class=\"dataframe\">\n",
       "  <thead>\n",
       "    <tr style=\"text-align: right;\">\n",
       "      <th></th>\n",
       "      <th>train_cross_val</th>\n",
       "      <th>train_score</th>\n",
       "      <th>test_score</th>\n",
       "    </tr>\n",
       "  </thead>\n",
       "  <tbody>\n",
       "    <tr>\n",
       "      <th>xgb_west</th>\n",
       "      <td>0.756420</td>\n",
       "      <td>0.999133</td>\n",
       "      <td>0.788176</td>\n",
       "    </tr>\n",
       "    <tr>\n",
       "      <th>regr_west</th>\n",
       "      <td>0.713028</td>\n",
       "      <td>0.869435</td>\n",
       "      <td>0.713499</td>\n",
       "    </tr>\n",
       "  </tbody>\n",
       "</table>\n",
       "</div>"
      ],
      "text/plain": [
       "           train_cross_val  train_score  test_score\n",
       "xgb_west          0.756420     0.999133    0.788176\n",
       "regr_west         0.713028     0.869435    0.713499"
      ]
     },
     "execution_count": 55,
     "metadata": {},
     "output_type": "execute_result"
    }
   ],
   "source": [
    "test_models(west_models, Z_train_west, y_train, Z_test_west, y_test)"
   ]
  },
  {
   "cell_type": "code",
   "execution_count": 56,
   "id": "366429be-fdc4-4266-b7e4-1971c1e8d9c5",
   "metadata": {},
   "outputs": [
    {
     "data": {
      "text/plain": [
       "RandomForestRegressor(max_depth=13, n_estimators=500, random_state=9)"
      ]
     },
     "execution_count": 56,
     "metadata": {},
     "output_type": "execute_result"
    }
   ],
   "source": [
    "# Instantiate model\n",
    "regr_west = RandomForestRegressor(max_depth=13, n_estimators=500, random_state=9)\n",
    "\n",
    "# Fit model\n",
    "regr_west.fit(Z_train_west, y_train)"
   ]
  },
  {
   "cell_type": "code",
   "execution_count": 57,
   "id": "25c3e1c2-a8c8-4cd2-bbe6-714e463458bd",
   "metadata": {},
   "outputs": [
    {
     "data": {
      "text/plain": [
       "XGBRegressor(base_score=0.5, booster='gbtree', callbacks=None,\n",
       "             colsample_bylevel=1, colsample_bynode=1, colsample_bytree=1,\n",
       "             early_stopping_rounds=None, enable_categorical=False,\n",
       "             eval_metric=None, gamma=0, gpu_id=-1, grow_policy='depthwise',\n",
       "             importance_type=None, interaction_constraints='',\n",
       "             learning_rate=0.300000012, max_bin=256, max_cat_to_onehot=4,\n",
       "             max_delta_step=0, max_depth=13, max_leaves=0, min_child_weight=1,\n",
       "             missing=nan, monotone_constraints='()', n_estimators=500, n_jobs=0,\n",
       "             num_parallel_tree=1, predictor='auto', random_state=9, reg_alpha=1,\n",
       "             reg_lambda=1, ...)"
      ]
     },
     "execution_count": 57,
     "metadata": {},
     "output_type": "execute_result"
    }
   ],
   "source": [
    "# Instantiate model\n",
    "xgb_west = XGBRegressor(max_depth=13, n_estimators=500, reg_alpha=1, random_state=9)\n",
    "\n",
    "# Fit model\n",
    "xgb_west.fit(Z_train_west, y_train)"
   ]
  },
  {
   "cell_type": "markdown",
   "id": "7e2f6c0f-6be7-4220-9374-178a0cc820b7",
   "metadata": {},
   "source": [
    "# Plotting Metrics of Westminster Model:  "
   ]
  },
  {
   "cell_type": "markdown",
   "id": "34316b6a-e2d4-4959-8b36-5295c7366b4e",
   "metadata": {},
   "source": [
    "## Residuals"
   ]
  },
  {
   "cell_type": "code",
   "execution_count": 58,
   "id": "4e4a153e-722f-4ef4-b2fa-d5f10aa60cd1",
   "metadata": {},
   "outputs": [
    {
     "data": {
      "text/plain": [
       "array([117.33277558,  35.33984775, 126.74119381,  42.51426577,\n",
       "        96.30710751])"
      ]
     },
     "execution_count": 58,
     "metadata": {},
     "output_type": "execute_result"
    }
   ],
   "source": [
    "y_pred_west = regr_west.predict(Z_train_west)\n",
    "y_pred_regr[:5]"
   ]
  },
  {
   "cell_type": "code",
   "execution_count": 59,
   "id": "a744ad2e-6f49-4b4f-aa52-02aaef211b35",
   "metadata": {},
   "outputs": [],
   "source": [
    "residuals_west = y_train - y_pred_west"
   ]
  },
  {
   "cell_type": "code",
   "execution_count": 60,
   "id": "dd30b6b8-750a-4fb3-a186-13157d115130",
   "metadata": {},
   "outputs": [
    {
     "data": {
      "text/plain": [
       "0.021524500208516328"
      ]
     },
     "execution_count": 60,
     "metadata": {},
     "output_type": "execute_result"
    }
   ],
   "source": [
    "residuals_west.mean()"
   ]
  },
  {
   "cell_type": "code",
   "execution_count": 61,
   "id": "4142f503-4305-4842-bb1c-d47a0b88404d",
   "metadata": {},
   "outputs": [
    {
     "data": {
      "image/png": "[encoded data removed]",
      "text/plain": [
       "<Figure size 432x288 with 1 Axes>"
      ]
     },
     "metadata": {
      "needs_background": "light"
     },
     "output_type": "display_data"
    }
   ],
   "source": [
    "# Histogram of Model Residuals\n",
    "plt.hist(residuals_west, bins=20)\n",
    "\n",
    "# Chart formatting\n",
    "plt.title('Random Forest Regressor Residual Distribution (Westminster)')\n",
    "plt.xlabel('Residual Values')\n",
    "plt.ylabel('Prediction Count');"
   ]
  },
  {
   "cell_type": "markdown",
   "id": "a0fb92b8-6e8a-464c-9c74-28a6ceb69c6b",
   "metadata": {},
   "source": [
    "### RandomForestRegressor Residual Histogram Interpretation (Westminster): \n",
    "The RandomForestRegressor histogram for the neighborhood of Westminster subset has a normal distribution which should give us a bit more confidence in the previous discussion about categorical features distorting some of the residuals. "
   ]
  },
  {
   "cell_type": "code",
   "execution_count": 62,
   "id": "d6a7bba8-87d2-4634-9b03-4dc02dd10509",
   "metadata": {
    "tags": []
   },
   "outputs": [
    {
     "data": {
      "image/png": "[encoded data removed]",
      "text/plain": [
       "<Figure size 432x288 with 1 Axes>"
      ]
     },
     "metadata": {
      "needs_background": "light"
     },
     "output_type": "display_data"
    }
   ],
   "source": [
    "# Scatter Plot of Model Residuals\n",
    "plt.scatter(y_pred_west, residuals_west, alpha=.1)\n",
    "\n",
    "# Chart formatting\n",
    "plt.axhline(0, color=\"red\", linestyle=\"--\")\n",
    "plt.title('Random Forest Regressor Residuals (Westminster)')\n",
    "plt.xlabel('Predicted Values')\n",
    "plt.ylabel('Residual Values');"
   ]
  },
  {
   "cell_type": "markdown",
   "id": "c6665e01-d63f-44e1-a3ee-0efe6818524c",
   "metadata": {},
   "source": [
    "### RandomForestRegressor Residual Scatterplot Interpretation (Westminster): \n",
    "Although there is a small improvement on the residual scatterplot values becoming more random, I can still make out a slight diamond pattern which means for the final insights given I will include a disclaimer on the percentage of risk involved in taking full confidence with the feature importance. "
   ]
  },
  {
   "cell_type": "markdown",
   "id": "1439e873-5bbf-4cf5-9333-fe0d86ceafe7",
   "metadata": {},
   "source": [
    "## Mean Absolute Error"
   ]
  },
  {
   "cell_type": "code",
   "execution_count": 63,
   "id": "532d6ab4-05d2-43d2-af0a-499e86049b14",
   "metadata": {},
   "outputs": [
    {
     "name": "stdout",
     "output_type": "stream",
     "text": [
      "On average the RandomForestRegressor is able to predict the price of an AirBnb listing in the Westminster neighborhood within $17.0.\n"
     ]
    }
   ],
   "source": [
    "# Calculating and rounding the mean absolute error \n",
    "regr_mae_west = round(mean_absolute_error(y_train, y_pred_west), 2)\n",
    "\n",
    "print(f'On average the RandomForestRegressor is able to predict the price of an AirBnb listing in the Westminster neighborhood within ${regr_mae_west}.')"
   ]
  },
  {
   "cell_type": "markdown",
   "id": "eda32fb0-35f4-4bae-a970-0b226c747bcf",
   "metadata": {},
   "source": [
    "----"
   ]
  },
  {
   "cell_type": "code",
   "execution_count": 65,
   "id": "d3da9608-6b23-40b8-875a-5418c2eb5d67",
   "metadata": {},
   "outputs": [
    {
     "data": {
      "text/plain": [
       "array([150.02617, 170.9504 , 266.9889 , 148.99197, 200.00594],\n",
       "      dtype=float32)"
      ]
     },
     "execution_count": 65,
     "metadata": {},
     "output_type": "execute_result"
    }
   ],
   "source": [
    "y_pred_west_xgb = xgb_west.predict(Z_train_west)\n",
    "y_pred_west_xgb[:5]"
   ]
  },
  {
   "cell_type": "code",
   "execution_count": 66,
   "id": "eef35cd6-1d0d-46cb-97f5-ce5a101cc0a6",
   "metadata": {},
   "outputs": [],
   "source": [
    "residuals_west_xgb = y_train - y_pred_west_xgb"
   ]
  },
  {
   "cell_type": "code",
   "execution_count": 67,
   "id": "c7c15f63-b634-49f9-824b-b314f3576aac",
   "metadata": {},
   "outputs": [
    {
     "data": {
      "text/plain": [
       "-8.444489115207811e-07"
      ]
     },
     "execution_count": 67,
     "metadata": {},
     "output_type": "execute_result"
    }
   ],
   "source": [
    "residuals_west_xgb.mean()"
   ]
  },
  {
   "cell_type": "code",
   "execution_count": 68,
   "id": "51f75d3f-ba17-4893-a305-bd52cd5d6bf2",
   "metadata": {},
   "outputs": [
    {
     "data": {
      "image/png": "[encoded data removed]",
      "text/plain": [
       "<Figure size 432x288 with 1 Axes>"
      ]
     },
     "metadata": {
      "needs_background": "light"
     },
     "output_type": "display_data"
    }
   ],
   "source": [
    "# Histogram of Model Residuals\n",
    "plt.hist(residuals_west_xgb, bins=20)\n",
    "\n",
    "# Chart formatting\n",
    "plt.title('XGB Regressor Residual Distribution (Westminster)')\n",
    "plt.xlabel('Residual Values')\n",
    "plt.ylabel('Prediction Count');"
   ]
  },
  {
   "cell_type": "markdown",
   "id": "0bf69477-b266-4d78-9e6e-b378a904f8f1",
   "metadata": {
    "tags": []
   },
   "source": [
    "### XGBoost Residual Histogram (Westminster): \n",
    "The hisogram has nearly only one narrow bar centered over the mean; therefore, the distribution is neither normally distributed or skewed. "
   ]
  },
  {
   "cell_type": "code",
   "execution_count": 69,
   "id": "9546a55d-9b01-4633-9c67-5f887e7596e6",
   "metadata": {
    "tags": []
   },
   "outputs": [
    {
     "data": {
      "image/png": "[encoded data removed]",
      "text/plain": [
       "<Figure size 432x288 with 1 Axes>"
      ]
     },
     "metadata": {
      "needs_background": "light"
     },
     "output_type": "display_data"
    }
   ],
   "source": [
    "# Scatter Plot of Model Residuals\n",
    "plt.scatter(y_pred_west_xgb, residuals_west_xgb, alpha=.1)\n",
    "\n",
    "# Chart formatting\n",
    "plt.axhline(0, color=\"red\", linestyle=\"--\")\n",
    "plt.title('XGB Regressor Residuals (Westminster)')\n",
    "plt.xlabel('Predicted Values')\n",
    "plt.ylabel('Residual Values');"
   ]
  },
  {
   "cell_type": "markdown",
   "id": "374ed1e6-2f86-4f4b-9523-234331bf27aa",
   "metadata": {},
   "source": [
    "### XGBoost Residual Scatterplot Interpretation (Westminster): \n",
    "The concentration of residual values is tightly hugging the y=0 line meaning the predicted v. true values is low. "
   ]
  },
  {
   "cell_type": "markdown",
   "id": "7933f95e-ff5b-4a90-ba06-084ee533d2ea",
   "metadata": {},
   "source": [
    "## Mean Absolute Error"
   ]
  },
  {
   "cell_type": "code",
   "execution_count": 70,
   "id": "893be4ea-a708-4921-8d8f-d42929618cd1",
   "metadata": {},
   "outputs": [
    {
     "name": "stdout",
     "output_type": "stream",
     "text": [
      "On average the XGBRegressor is able to predict the price of an AirBnb listing in the Westminster neighborhood within $0.16.\n"
     ]
    }
   ],
   "source": [
    "# Calculating and rounding the mean absolute error \n",
    "xgb_mae_west = round(mean_absolute_error(y_train, y_pred_west_xgb), 2)\n",
    "\n",
    "print(f'On average the XGBRegressor is able to predict the price of an AirBnb listing in the Westminster neighborhood within ${xgb_mae_west}.')"
   ]
  },
  {
   "cell_type": "markdown",
   "id": "b3eb3840-e38d-4a7a-9cbc-4758a42b7c5a",
   "metadata": {},
   "source": [
    "----"
   ]
  },
  {
   "cell_type": "markdown",
   "id": "f1c35dfd-3eb3-423b-9819-b6b3b113be27",
   "metadata": {},
   "source": [
    "## Feature Importance/Recommendations: "
   ]
  },
  {
   "cell_type": "code",
   "execution_count": 351,
   "id": "a4bf3f40-a5e3-4f8b-b3fc-623f6b597b6d",
   "metadata": {},
   "outputs": [],
   "source": [
    "# Creating a DataFrame for feature importances\n",
    "xgb_feature_importance = pd.DataFrame(\n",
    "    \n",
    "    # Pulling feature importances from XGB model\n",
    "    data=xgb_opt.feature_importances_, \n",
    "    \n",
    "    # Setting index as the column transformer feature names\n",
    "    index=ctx.get_feature_names_out(), \n",
    "    \n",
    "    # Sorting features by their importance to the target variable, price\n",
    "    columns=['feature_importance']).sort_values(\n",
    "        by=['feature_importance'], \n",
    "        ascending=False)"
   ]
  },
  {
   "cell_type": "code",
   "execution_count": 353,
   "id": "c5878f90-1f37-451e-b6ca-a96cf877d07a",
   "metadata": {},
   "outputs": [],
   "source": [
    "xgb_feature_importance.index = xgb_feature_importance.index.str.lower().str.replace('ohe', ' ').str.replace('ss', ' ').str.replace('__', ' ').str.replace('_', ' ')"
   ]
  },
  {
   "cell_type": "code",
   "execution_count": 360,
   "id": "275ab2d1-a627-4fc7-a3ee-b6bcbf86375f",
   "metadata": {},
   "outputs": [
    {
     "data": {
      "text/html": [
       "<div>\n",
       "<style scoped>\n",
       "    .dataframe tbody tr th:only-of-type {\n",
       "        vertical-align: middle;\n",
       "    }\n",
       "\n",
       "    .dataframe tbody tr th {\n",
       "        vertical-align: top;\n",
       "    }\n",
       "\n",
       "    .dataframe thead th {\n",
       "        text-align: right;\n",
       "    }\n",
       "</style>\n",
       "<table border=\"1\" class=\"dataframe\">\n",
       "  <thead>\n",
       "    <tr style=\"text-align: right;\">\n",
       "      <th></th>\n",
       "      <th>feature_importance</th>\n",
       "    </tr>\n",
       "  </thead>\n",
       "  <tbody>\n",
       "    <tr>\n",
       "      <th>room type private room</th>\n",
       "      <td>0.778062</td>\n",
       "    </tr>\n",
       "    <tr>\n",
       "      <th>room type hotel room</th>\n",
       "      <td>0.027723</td>\n",
       "    </tr>\n",
       "    <tr>\n",
       "      <th>room type shared room</th>\n",
       "      <td>0.021143</td>\n",
       "    </tr>\n",
       "    <tr>\n",
       "      <th>accommodates</th>\n",
       "      <td>0.011822</td>\n",
       "    </tr>\n",
       "    <tr>\n",
       "      <th>calculated host listings count shared rooms</th>\n",
       "      <td>0.010518</td>\n",
       "    </tr>\n",
       "    <tr>\n",
       "      <th>neighborhood westminster</th>\n",
       "      <td>0.007046</td>\n",
       "    </tr>\n",
       "    <tr>\n",
       "      <th>neighborhood kensington and chelsea</th>\n",
       "      <td>0.006991</td>\n",
       "    </tr>\n",
       "    <tr>\n",
       "      <th>baths</th>\n",
       "      <td>0.006382</td>\n",
       "    </tr>\n",
       "    <tr>\n",
       "      <th>neighborhood city of london</th>\n",
       "      <td>0.006371</td>\n",
       "    </tr>\n",
       "    <tr>\n",
       "      <th>neighborhood croydon</th>\n",
       "      <td>0.005017</td>\n",
       "    </tr>\n",
       "    <tr>\n",
       "      <th>neighborhood richmond upon thames</th>\n",
       "      <td>0.004275</td>\n",
       "    </tr>\n",
       "    <tr>\n",
       "      <th>calculated host listings count entire homes</th>\n",
       "      <td>0.003658</td>\n",
       "    </tr>\n",
       "    <tr>\n",
       "      <th>calculated host listings count</th>\n",
       "      <td>0.003276</td>\n",
       "    </tr>\n",
       "    <tr>\n",
       "      <th>neighborhood luxembourg</th>\n",
       "      <td>0.003012</td>\n",
       "    </tr>\n",
       "    <tr>\n",
       "      <th>calculated host listings count private rooms</th>\n",
       "      <td>0.003005</td>\n",
       "    </tr>\n",
       "  </tbody>\n",
       "</table>\n",
       "</div>"
      ],
      "text/plain": [
       "                                                feature_importance\n",
       "  room type private room                                  0.778062\n",
       "  room type hotel room                                    0.027723\n",
       "  room type shared room                                   0.021143\n",
       "  accommodates                                            0.011822\n",
       "  calculated host listings count shared rooms             0.010518\n",
       "  neighborhood westminster                                0.007046\n",
       "  neighborhood kensington and chelsea                     0.006991\n",
       "  baths                                                   0.006382\n",
       "  neighborhood city of london                             0.006371\n",
       "  neighborhood croydon                                    0.005017\n",
       "  neighborhood richmond upon thames                       0.004275\n",
       "  calculated host listings count entire homes             0.003658\n",
       "  calculated host listings count                          0.003276\n",
       "  neighborhood luxembourg                                 0.003012\n",
       "  calculated host listings count private rooms            0.003005"
      ]
     },
     "execution_count": 360,
     "metadata": {},
     "output_type": "execute_result"
    }
   ],
   "source": [
    "xgb_feature_importance.head(15)"
   ]
  },
  {
   "cell_type": "code",
   "execution_count": 355,
   "id": "126a2097-11f3-4719-9fe9-139189d962b9",
   "metadata": {},
   "outputs": [],
   "source": [
    "# Creating a DataFrame for feature importances\n",
    "regr_feature_importance = pd.DataFrame(\n",
    "    \n",
    "    # Pulling feature importances from RandomForestRegressor model\n",
    "    data=regr_opt.feature_importances_, \n",
    "    \n",
    "    # Setting index as the column transformer feature names\n",
    "    index=ctx.get_feature_names_out(), \n",
    "    \n",
    "    # Sorting features by their importance to the target variable, price\n",
    "    columns=['feature_importance']).sort_values(\n",
    "        by=['feature_importance'], \n",
    "        ascending=False)"
   ]
  },
  {
   "cell_type": "code",
   "execution_count": 356,
   "id": "446ca5fe-891e-44a6-bd54-a4013a3836b2",
   "metadata": {},
   "outputs": [],
   "source": [
    "regr_feature_importance.index = regr_feature_importance.index.str.lower().str.replace('ohe', ' ').str.replace('ss', ' ').str.replace('__', ' ').str.replace('_', ' ')"
   ]
  },
  {
   "cell_type": "code",
   "execution_count": 358,
   "id": "30a36f43-8396-4203-8672-9ad92d26a5da",
   "metadata": {},
   "outputs": [
    {
     "data": {
      "text/html": [
       "<div>\n",
       "<style scoped>\n",
       "    .dataframe tbody tr th:only-of-type {\n",
       "        vertical-align: middle;\n",
       "    }\n",
       "\n",
       "    .dataframe tbody tr th {\n",
       "        vertical-align: top;\n",
       "    }\n",
       "\n",
       "    .dataframe thead th {\n",
       "        text-align: right;\n",
       "    }\n",
       "</style>\n",
       "<table border=\"1\" class=\"dataframe\">\n",
       "  <thead>\n",
       "    <tr style=\"text-align: right;\">\n",
       "      <th></th>\n",
       "      <th>feature_importance</th>\n",
       "    </tr>\n",
       "  </thead>\n",
       "  <tbody>\n",
       "    <tr>\n",
       "      <th>room type private room</th>\n",
       "      <td>0.318531</td>\n",
       "    </tr>\n",
       "    <tr>\n",
       "      <th>accommodates</th>\n",
       "      <td>0.157314</td>\n",
       "    </tr>\n",
       "    <tr>\n",
       "      <th>availability 365</th>\n",
       "      <td>0.092876</td>\n",
       "    </tr>\n",
       "    <tr>\n",
       "      <th>latitude</th>\n",
       "      <td>0.080296</td>\n",
       "    </tr>\n",
       "    <tr>\n",
       "      <th>longitude</th>\n",
       "      <td>0.052297</td>\n",
       "    </tr>\n",
       "    <tr>\n",
       "      <th>calculated host listings count</th>\n",
       "      <td>0.040882</td>\n",
       "    </tr>\n",
       "    <tr>\n",
       "      <th>baths</th>\n",
       "      <td>0.035855</td>\n",
       "    </tr>\n",
       "    <tr>\n",
       "      <th>availability 30</th>\n",
       "      <td>0.031471</td>\n",
       "    </tr>\n",
       "    <tr>\n",
       "      <th>host id</th>\n",
       "      <td>0.020934</td>\n",
       "    </tr>\n",
       "    <tr>\n",
       "      <th>review scores location</th>\n",
       "      <td>0.018161</td>\n",
       "    </tr>\n",
       "    <tr>\n",
       "      <th>calculated host listings count entire homes</th>\n",
       "      <td>0.012966</td>\n",
       "    </tr>\n",
       "    <tr>\n",
       "      <th>calculated host listings count private rooms</th>\n",
       "      <td>0.012465</td>\n",
       "    </tr>\n",
       "    <tr>\n",
       "      <th>neighborhood westminster</th>\n",
       "      <td>0.011414</td>\n",
       "    </tr>\n",
       "    <tr>\n",
       "      <th>minimum minimum nights</th>\n",
       "      <td>0.010979</td>\n",
       "    </tr>\n",
       "    <tr>\n",
       "      <th>minimum nights avg ntm</th>\n",
       "      <td>0.008281</td>\n",
       "    </tr>\n",
       "  </tbody>\n",
       "</table>\n",
       "</div>"
      ],
      "text/plain": [
       "                                                feature_importance\n",
       "  room type private room                                  0.318531\n",
       "  accommodates                                            0.157314\n",
       "  availability 365                                        0.092876\n",
       "  latitude                                                0.080296\n",
       "  longitude                                               0.052297\n",
       "  calculated host listings count                          0.040882\n",
       "  baths                                                   0.035855\n",
       "  availability 30                                         0.031471\n",
       "  host id                                                 0.020934\n",
       "  review scores location                                  0.018161\n",
       "  calculated host listings count entire homes             0.012966\n",
       "  calculated host listings count private rooms            0.012465\n",
       "  neighborhood westminster                                0.011414\n",
       "  minimum minimum nights                                  0.010979\n",
       "  minimum nights avg ntm                                  0.008281"
      ]
     },
     "execution_count": 358,
     "metadata": {},
     "output_type": "execute_result"
    }
   ],
   "source": [
    "regr_feature_importance.head(15)"
   ]
  },
  {
   "cell_type": "markdown",
   "id": "62d29eff-c465-439d-a3d9-aa90ef749e98",
   "metadata": {},
   "source": [
    "## Calculations for insights"
   ]
  },
  {
   "cell_type": "code",
   "execution_count": 381,
   "id": "8a3b44db-b2bb-4865-936c-41a9f5add955",
   "metadata": {},
   "outputs": [
    {
     "name": "stdout",
     "output_type": "stream",
     "text": [
      "A host who has a private room and lists on AirBnb can charge around $57.43.\n"
     ]
    }
   ],
   "source": [
    "private_room = df[df['room_type'] == 'Private room']\n",
    "price_pr = round(private_room['price'].mean(), 2)\n",
    "print(f'A host who has a private room and lists on AirBnb can charge around ${price_pr} per night.')"
   ]
  },
  {
   "cell_type": "code",
   "execution_count": 383,
   "id": "43968122-404a-43cf-8a5c-30da814eaf7a",
   "metadata": {},
   "outputs": [
    {
     "name": "stdout",
     "output_type": "stream",
     "text": [
      "A host who has accommodations for two guests can charge around $79.68 per night.\n"
     ]
    }
   ],
   "source": [
    "accommodates_two = df[df['accommodates'] == 2]\n",
    "price_two = round(accommodates_two['price'].mean(), 2)\n",
    "print(f'A host who has accommodations for two guests can charge around ${price_two} per night.')"
   ]
  },
  {
   "cell_type": "code",
   "execution_count": 384,
   "id": "1d401ff3-d2ec-4b1f-b8c2-9d643139ee65",
   "metadata": {},
   "outputs": [
    {
     "name": "stdout",
     "output_type": "stream",
     "text": [
      "A host who has a private room in the neighborhood of Westminster can charge around $82.68 per night.\n"
     ]
    }
   ],
   "source": [
    "west_private = west[west['room_type'] == 'Private room']\n",
    "west_price = round(west_private['price'].mean(), 2)\n",
    "print(f'A host who has a private room in the neighborhood of Westminster can charge around ${west_price} per night.')"
   ]
  },
  {
   "cell_type": "markdown",
   "id": "48e55e2d-54e2-4b4a-831e-d48dd7bc1858",
   "metadata": {},
   "source": [
    "## Feature Importance Interpretation\n",
    "With varying levels of weight, the models both equate private room as being one of the most important features affecting price. Then XGBRegressor lists hotel room, shared room, and how many people the unit accommodates as the next three most important features affecting the listing price. While RandomForestRegressor lists accommodates, availability of the unit within a year's time, and the latitude/longitude of the unit as the most important features affecting price. Although I chose XGBRegressor as my final model based off the metrics, I find the feature importance of RandomForestRegressor to be a much more intuitive bundle of results, but I digress. \n",
    "\n",
    "Based off these two perspectives, my final insights to answer my problem statement are suggesting if available - renting out a spare room may be the best piece of advice I could give to someone looking to break into the AirBnb market because hosts can charge around ~58 USD per night. Furthermore, if a host has accommodations for two guests, they can charge around ~80 USD per night. \n",
    "\n",
    "In addition to these features, the London neighborhoods appear higher in the feature importance lists so I can only imagine having a listing in neighborhoods like Westminster and Kensington & Chelsea drive the price as well. The features, in a loose sense of the term, have a macro focus - location of listing, room type, and how many people the unit accommodates are the important features affecting price. The best a host could hope for would be a private room in Westminster because one is able to charge nearly 44% more per night. "
   ]
  },
  {
   "cell_type": "markdown",
   "id": "4dda495e-f31b-4a48-b161-0bb60da84351",
   "metadata": {},
   "source": [
    "## Final Thoughts: "
   ]
  },
  {
   "cell_type": "markdown",
   "id": "0285110f-3b16-4e83-96c5-d41334152734",
   "metadata": {},
   "source": [
    "Overall, the models performed quite well given the size of the data and the fact two completely different internationally renowned destinations were incorporated. When running initial modeling tests to ensure I would be able to use this dataset, a basic linear regression model was scoring at .21 R2 score on just the numeric data with all nulls dropped. I have to say I am proud of my thorough approach and appreciative of my instructors for guiding me through this process. The greatest helper to the modeling phase was in my cleaning notebook were I used the IQR to address outliers which caused the correlation of my top features to double. In addition, my due diligence on the reason behind dropping 10% of null values in price which turned out to be rental units in Paris was a win as well.\n",
    "\n",
    "My goal in selecting a final model between the two top performing models was to ensure the model was able to pass all LINE assumptions. The LINE assumptions are L-Linearity, I-Independent, N-Normal, E-Equal Variance. From the residual scatter plots of our two models, we see a clear violation of the last LINE assumption which is equal variance. In order for our models to pass all this assumption, there must be no pattern and the residual, or error term is constant - homoscedasticity. \n",
    "\n",
    "Even if the other LINE assumptions are being followed such as the residual plots being normally distributed, each event occuring independent of the other, and our target variable, price, having a linear relationship with the x-variables, or features. Again, as I have said before, my problem statement is based around how features affect price and will need to pull out feature importances to interpret their relationship to price. With this being said, our insights and interpretations should be given with a word of caution since one of the LINE assumptions has been violated. \n",
    "\n",
    "During some discussion with my instructors, we arrived at the potential reason for this diamond pattern may be due to categorical features. Luckily, my dataset contains only a couple categorical features, neighborhood & room_type. The next step I will take in diving deeper into why this violation occured is by taking a subset of the largest neighborhood out of the two cities I am analyzing. I will then repeat the exact same modeling steps, scoring, and plotting to see if zooming in on a specific neighborhood will allow me to gain better insights.  \n",
    "\n",
    "Since I have run the subset modeling phase and again find myself in nearly the same boat, I will proceed with giving insights to help solve my problem statement, but I will be giving them with a fair announcement of caution. The scoring and plots followed a similar pattern; however, there was an improvement with the scatter plots becoming a bit more equally varied. \n",
    "\n",
    "An update I received during some more discussion was surrounding the LINE assumptions only being applicable to linear models and not useful in tree based models which are the two top performing models I have chosen to pull feature importances out and optimize. This is reassuring because I was unsure how to proceed after examining my data on neighborhood level for the residuals to generate a similar pattern. I was given some guidance on using another metric to give my audience easily explainable insight through the MAE - mean absolute error. As a result, I will also be using the MAE for help in chosing a final model. \n",
    "\n",
    "When looking at the mean absolute error, XGBRegressor, MAE of 2.24 USD, does around 100x better at predicting the price of listings compared to RandomForestRegressor, MAE of 22.97 USD. Furthermore, when I zoom the lens in closer to a neighborhood level, the XGBRegressor can predict pricing within 0.16 cents and RandomForestRegressor can predict pricing within 17 USD. Even though my final decision was XGBRegressor as my top performing model , I was interested in seeing the two different perspectives of feature importances from my two top performing models to give more robust insights to AirBnb hosts on what drives the price most."
   ]
  }
 ],
 "metadata": {
  "kernelspec": {
   "display_name": "Python 3 (ipykernel)",
   "language": "python",
   "name": "python3"
  },
  "language_info": {
   "codemirror_mode": {
    "name": "ipython",
    "version": 3
   },
   "file_extension": ".py",
   "mimetype": "text/x-python",
   "name": "python",
   "nbconvert_exporter": "python",
   "pygments_lexer": "ipython3",
   "version": "3.9.7"
  }
 },
 "nbformat": 4,
 "nbformat_minor": 5
}
